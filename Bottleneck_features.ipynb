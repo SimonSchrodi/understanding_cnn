{
  "nbformat": 4,
  "nbformat_minor": 0,
  "metadata": {
    "colab": {
      "name": "Bottleneck features.ipynb",
      "version": "0.3.2",
      "provenance": [],
      "toc_visible": true,
      "include_colab_link": true
    },
    "kernelspec": {
      "name": "python3",
      "display_name": "Python 3"
    },
    "accelerator": "GPU"
  },
  "cells": [
    {
      "cell_type": "markdown",
      "metadata": {
        "id": "view-in-github",
        "colab_type": "text"
      },
      "source": [
        "<a href=\"https://colab.research.google.com/github/infomon/understanding_cnn/blob/master/Bottleneck_features.ipynb\" target=\"_parent\"><img src=\"https://colab.research.google.com/assets/colab-badge.svg\" alt=\"Open In Colab\"/></a>"
      ]
    },
    {
      "metadata": {
        "id": "IGdkzIxnDl-R",
        "colab_type": "code",
        "outputId": "f7fab6f7-fed3-4e2a-a512-5849aada32d2",
        "colab": {
          "base_uri": "https://localhost:8080/",
          "height": 197
        }
      },
      "cell_type": "code",
      "source": [
        "!pip install numba\n",
        "!pip install umap-learn"
      ],
      "execution_count": 0,
      "outputs": [
        {
          "output_type": "stream",
          "text": [
            "Requirement already satisfied: numba in /usr/local/lib/python3.6/dist-packages (0.40.1)\n",
            "Requirement already satisfied: llvmlite>=0.25.0dev0 in /usr/local/lib/python3.6/dist-packages (from numba) (0.28.0)\n",
            "Requirement already satisfied: numpy in /usr/local/lib/python3.6/dist-packages (from numba) (1.14.6)\n",
            "Requirement already satisfied: umap-learn in /usr/local/lib/python3.6/dist-packages (0.3.7)\n",
            "Requirement already satisfied: numpy>=1.13 in /usr/local/lib/python3.6/dist-packages (from umap-learn) (1.14.6)\n",
            "Requirement already satisfied: scikit-learn>=0.16 in /usr/local/lib/python3.6/dist-packages (from umap-learn) (0.20.3)\n",
            "Requirement already satisfied: scipy>=0.19 in /usr/local/lib/python3.6/dist-packages (from umap-learn) (1.1.0)\n",
            "Requirement already satisfied: numba>=0.37 in /usr/local/lib/python3.6/dist-packages (from umap-learn) (0.40.1)\n",
            "Requirement already satisfied: llvmlite>=0.25.0dev0 in /usr/local/lib/python3.6/dist-packages (from numba>=0.37->umap-learn) (0.28.0)\n"
          ],
          "name": "stdout"
        }
      ]
    },
    {
      "metadata": {
        "deletable": true,
        "editable": true,
        "id": "htAW5DrUDkyV",
        "colab_type": "text"
      },
      "cell_type": "markdown",
      "source": [
        "# Extract Bottleneck Features for Train Set"
      ]
    },
    {
      "metadata": {
        "deletable": true,
        "editable": true,
        "id": "OHAoU0M8DkyZ",
        "colab_type": "code",
        "outputId": "084b16e1-8e45-4aca-bdb4-65196fdd4232",
        "colab": {
          "base_uri": "https://localhost:8080/",
          "height": 126
        }
      },
      "cell_type": "code",
      "source": [
        "import keras\n",
        "from keras.datasets import cifar10\n",
        "import numpy as np\n",
        "from keras.applications.inception_v3 import InceptionV3, preprocess_input\n",
        "from keras.applications.inception_resnet_v2 import InceptionResNetV2, preprocess_input\n",
        "import scipy\n",
        "from scipy import misc\n",
        "import os\n",
        "import cv2\n",
        "\n",
        "\n",
        "nof_images = 25000\n",
        "\n",
        "# load the data\n",
        "(x_train, y_train), (x_test, y_test) = cifar10.load_data()\n",
        "y_train = np.squeeze(y_train)\n",
        "print('data loaded')\n",
        "\n",
        "# load inceptionV3 model + remove final classification layers\n",
        "model = InceptionResNetV2(weights='imagenet', include_top=False, input_shape=(139, 139, 3))\n",
        "print('model loaded')\n",
        "\n",
        "# obtain bottleneck features (train)\n",
        "if os.path.exists('inception_features_train_1.npz'):\n",
        "    print('bottleneck features detected (train)')\n",
        "    features = np.load('inception_features_train_1.npz')['features']\n",
        "else:\n",
        "    print('bottleneck features file not detected (train)')\n",
        "    print('calculating now ...')\n",
        "    # pre-process the train data\n",
        "    x_train = x_train[0:nof_images]\n",
        "    tmp = []\n",
        "    for i in range(0,len(x_train)):\n",
        "      tmp.append(cv2.resize(x_train[i], (139, 139)))\n",
        "      \n",
        "    big_x_train = np.array(tmp).astype('float32')  \n",
        "    print(\"finished\")\n",
        "    #big_x_train = np.array([scipy.misc.imresize(x_train[i], (139, 139, 3)) \n",
        "    #                        for i in range(0, len(x_train))]).astype('float32')\n",
        "    inception_input_train = preprocess_input(big_x_train)\n",
        "    print('train data preprocessed')\n",
        "    # extract, process, and save bottleneck features\n",
        "    features = model.predict(inception_input_train)\n",
        "    features = np.squeeze(features)\n",
        "    np.savez('inception_features_train_1', features=features)\n",
        "print('bottleneck features saved (train)')"
      ],
      "execution_count": 0,
      "outputs": [
        {
          "output_type": "stream",
          "text": [
            "Using TensorFlow backend.\n"
          ],
          "name": "stderr"
        },
        {
          "output_type": "stream",
          "text": [
            "data loaded\n",
            "WARNING:tensorflow:From /usr/local/lib/python3.6/dist-packages/tensorflow/python/framework/op_def_library.py:263: colocate_with (from tensorflow.python.framework.ops) is deprecated and will be removed in a future version.\n",
            "Instructions for updating:\n",
            "Colocations handled automatically by placer.\n"
          ],
          "name": "stdout"
        }
      ]
    },
    {
      "metadata": {
        "deletable": true,
        "editable": true,
        "id": "gSnebQy1Dkyv",
        "colab_type": "text"
      },
      "cell_type": "markdown",
      "source": [
        "# Plot t-SNE Embedding of Bottleneck Features for Train Set"
      ]
    },
    {
      "metadata": {
        "id": "M4Vif_qxEWep",
        "colab_type": "code",
        "colab": {}
      },
      "cell_type": "code",
      "source": [
        "import umap"
      ],
      "execution_count": 0,
      "outputs": []
    },
    {
      "metadata": {
        "deletable": true,
        "editable": true,
        "id": "4lC4mdUaDkyz",
        "colab_type": "code",
        "colab": {}
      },
      "cell_type": "code",
      "source": [
        "#from tsne import bh_sne\n",
        "import matplotlib.pyplot as plt\n",
        "%matplotlib inline\n",
        "\n",
        "# reshape bottleneck features + reduce dimensionality with t-SNE\n",
        "if os.path.exists('tsne_features.npz'):\n",
        "    print('tsne features detected (test)')\n",
        "    tsne_features = np.load('tsne_features.npz')['tsne_features']\n",
        "else:\n",
        "    print('tsne features not detected (test)')\n",
        "    print('calculating now ...')\n",
        "    tsne_features = umap.UMAP(n_neighbors=5,\n",
        "                      min_dist=0.3,\n",
        "                      metric='correlation').fit_transform(np.reshape(features,(features.shape[0],np.prod(features.shape[1:]))))\n",
        "    \n",
        "    #tsne_features = bh_sne(features.reshape([features.shape[0], np.prod(features.shape[1:])]).astype('float64')[:25000])\n",
        "    np.savez('tsne_features_1', tsne_features=tsne_features)\n",
        "print('tsne features obtained')\n",
        "\n"
      ],
      "execution_count": 0,
      "outputs": []
    },
    {
      "metadata": {
        "id": "5_ZtpnuHqdmY",
        "colab_type": "code",
        "colab": {}
      },
      "cell_type": "code",
      "source": [
        "labels = ['airplane','automobile','bird','cat','deer','dog','frog','horse',\n",
        "         'ship','truck']\n",
        "\n",
        "with np.load(\"tsne_features.npz\") as data:\n",
        "  tsne_features_1 = data['tsne_features']\n",
        "  \n",
        "with np.load(\"tsne_features_2.npz\") as data:\n",
        "  tsne_features_2 = data['tsne_features']\n",
        "  \n",
        "tsne_features = np.concatenate((tsne_features_1,tsne_features_2))\n",
        "\n",
        "# plot the features\n",
        "plt.figure()\n",
        "sc = plt.scatter(tsne_features[:,0], tsne_features[:,1], c=plt.cm.jet(y_train/10), s=10, edgecolors='none')\n",
        "#plt.colorbar(sc)\n",
        "plt.show()"
      ],
      "execution_count": 0,
      "outputs": []
    }
  ]
}