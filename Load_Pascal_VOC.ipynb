{
  "nbformat": 4,
  "nbformat_minor": 0,
  "metadata": {
    "colab": {
      "name": "Load Pascal VOC.ipynb",
      "version": "0.3.2",
      "provenance": [],
      "collapsed_sections": [],
      "include_colab_link": true
    },
    "kernelspec": {
      "name": "python3",
      "display_name": "Python 3"
    }
  },
  "cells": [
    {
      "cell_type": "markdown",
      "metadata": {
        "id": "view-in-github",
        "colab_type": "text"
      },
      "source": [
        "<a href=\"https://colab.research.google.com/github/infomon/understanding_cnn/blob/master/Load_Pascal_VOC.ipynb\" target=\"_parent\"><img src=\"https://colab.research.google.com/assets/colab-badge.svg\" alt=\"Open In Colab\"/></a>"
      ]
    },
    {
      "metadata": {
        "id": "U8iGUNkvL8ip",
        "colab_type": "code",
        "colab": {}
      },
      "cell_type": "code",
      "source": [
        "!pip install https://github.com/fastai/fastai/archive/master.zip\n",
        "!pip install opencv-python\n",
        "!apt update && apt install -y libsm6 libxext6\n",
        "!pip3 install http://download.pytorch.org/whl/cu80/torch-0.3.0.post4-cp36-cp36m-linux_x86_64.whl \n",
        "!pip3 install torchvision\n",
        "!mkdir data\n",
        "!wget http://pjreddie.com/media/files/VOCtrainval_06-Nov-2007.tar -P data/\n",
        "!wget https://storage.googleapis.com/coco-dataset/external/PASCAL_VOC.zip -P data/\n",
        "!tar -xf data/VOCtrainval_06-Nov-2007.tar -C data/\n",
        "!unzip data/PASCAL_VOC.zip -d data/\n",
        "!rm -rf data/PASCAL_VOC.zip data/VOCtrainval_06-Nov-2007.tar\n"
      ],
      "execution_count": 0,
      "outputs": []
    },
    {
      "metadata": {
        "id": "qBsvChQ2cYir",
        "colab_type": "code",
        "outputId": "3a874985-90aa-4dd0-aaec-94e5516bc518",
        "colab": {
          "base_uri": "https://localhost:8080/",
          "height": 265
        }
      },
      "cell_type": "code",
      "source": [
        "!wget http://pjreddie.com/media/files/VOCtrainval_11-May-2012.tar -P tmpdata/\n",
        "!tar -xf tmpdata/VOCtrainval_11-May-2012.tar -C trainval/\n",
        "!rm -rf tmpdata/VOCtrainval_11-May-2012.tar"
      ],
      "execution_count": 0,
      "outputs": [
        {
          "output_type": "stream",
          "text": [
            "URL transformed to HTTPS due to an HSTS policy\n",
            "--2019-03-26 11:42:55--  https://pjreddie.com/media/files/VOCtrainval_11-May-2012.tar\n",
            "Resolving pjreddie.com (pjreddie.com)... 128.208.3.39\n",
            "Connecting to pjreddie.com (pjreddie.com)|128.208.3.39|:443... connected.\n",
            "HTTP request sent, awaiting response... 200 OK\n",
            "Length: 1999639040 (1.9G) [application/octet-stream]\n",
            "Saving to: ‘tmpdata/VOCtrainval_11-May-2012.tar’\n",
            "\n",
            "VOCtrainval_11-May- 100%[===================>]   1.86G  56.8MB/s    in 33s     \n",
            "\n",
            "2019-03-26 11:43:28 (57.9 MB/s) - ‘tmpdata/VOCtrainval_11-May-2012.tar’ saved [1999639040/1999639040]\n",
            "\n",
            "tar: trainval: Cannot open: No such file or directory\n",
            "tar: Error is not recoverable: exiting now\n"
          ],
          "name": "stdout"
        }
      ]
    }
  ]
}