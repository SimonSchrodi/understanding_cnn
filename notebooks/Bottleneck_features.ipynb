{
  "nbformat": 4,
  "nbformat_minor": 0,
  "metadata": {
    "colab": {
      "name": "Bottleneck_features.ipynb",
      "version": "0.3.2",
      "provenance": [],
      "toc_visible": true,
      "include_colab_link": true
    },
    "kernelspec": {
      "name": "python3",
      "display_name": "Python 3"
    },
    "accelerator": "GPU"
  },
  "cells": [
    {
      "cell_type": "markdown",
      "metadata": {
        "id": "view-in-github",
        "colab_type": "text"
      },
      "source": [
        "<a href=\"https://colab.research.google.com/github/infomon/understanding_cnn/blob/master/notebooks/Bottleneck_features.ipynb\" target=\"_parent\"><img src=\"https://colab.research.google.com/assets/colab-badge.svg\" alt=\"Open In Colab\"/></a>"
      ]
    },
    {
      "metadata": {
        "id": "IGdkzIxnDl-R",
        "colab_type": "code",
        "outputId": "60c3baea-0bfa-40c9-e985-d8d283f9c04e",
        "colab": {
          "base_uri": "https://localhost:8080/",
          "height": 215
        }
      },
      "cell_type": "code",
      "source": [
        "!pip install numba\n",
        "!pip install umap-learn\n",
        "!pip install wget"
      ],
      "execution_count": 32,
      "outputs": [
        {
          "output_type": "stream",
          "text": [
            "Requirement already satisfied: numba in /usr/local/lib/python3.6/dist-packages (0.40.1)\n",
            "Requirement already satisfied: numpy in /usr/local/lib/python3.6/dist-packages (from numba) (1.14.6)\n",
            "Requirement already satisfied: llvmlite>=0.25.0dev0 in /usr/local/lib/python3.6/dist-packages (from numba) (0.28.0)\n",
            "Requirement already satisfied: umap-learn in /usr/local/lib/python3.6/dist-packages (0.3.7)\n",
            "Requirement already satisfied: numpy>=1.13 in /usr/local/lib/python3.6/dist-packages (from umap-learn) (1.14.6)\n",
            "Requirement already satisfied: scikit-learn>=0.16 in /usr/local/lib/python3.6/dist-packages (from umap-learn) (0.20.3)\n",
            "Requirement already satisfied: scipy>=0.19 in /usr/local/lib/python3.6/dist-packages (from umap-learn) (1.2.0)\n",
            "Requirement already satisfied: numba>=0.37 in /usr/local/lib/python3.6/dist-packages (from umap-learn) (0.40.1)\n",
            "Requirement already satisfied: llvmlite>=0.25.0dev0 in /usr/local/lib/python3.6/dist-packages (from numba>=0.37->umap-learn) (0.28.0)\n",
            "Requirement already satisfied: wget in /usr/local/lib/python3.6/dist-packages (3.2)\n"
          ],
          "name": "stdout"
        }
      ]
    },
    {
      "metadata": {
        "id": "CP-2kv7QxYLJ",
        "colab_type": "code",
        "outputId": "09e8c9f2-7948-4beb-f155-763534e8c1db",
        "colab": {
          "base_uri": "https://localhost:8080/",
          "height": 141
        }
      },
      "cell_type": "code",
      "source": [
        "!git clone https://github.com/infomon/understanding_cnn\n",
        "  \n",
        "import shutil\n",
        "import os\n",
        "if not os.path.isfile(\"utils.py\"):\n",
        "  shutil.move(\"/content/understanding_cnn/utils/utils.py\", \"/content\")\n",
        "if not os.path.isfile(\"utils_imagenet.py\"):\n",
        "  shutil.move(\"/content/understanding_cnn/utils/utils_imagenet.py\", \"/content\")\n",
        "if not os.path.isdir(\"models\"):\n",
        "  shutil.move(\"/content/understanding_cnn/models\", \"/content\")\n",
        "if not os.path.isdir(\"images\"):\n",
        "  shutil.move(\"/content/understanding_cnn/data/images\", \"/content\")\n",
        "if not os.path.isfile(\"data_loader.py\"):\n",
        "  shutil.move(\"/content/understanding_cnn/data/data_loader.py\", \"/content\")\n",
        "  \n",
        "!rm -r understanding_cnn"
      ],
      "execution_count": 33,
      "outputs": [
        {
          "output_type": "stream",
          "text": [
            "Cloning into 'understanding_cnn'...\n",
            "remote: Enumerating objects: 178, done.\u001b[K\n",
            "remote: Counting objects:   0% (1/178)   \u001b[K\rremote: Counting objects:   1% (2/178)   \u001b[K\rremote: Counting objects:   2% (4/178)   \u001b[K\rremote: Counting objects:   3% (6/178)   \u001b[K\rremote: Counting objects:   4% (8/178)   \u001b[K\rremote: Counting objects:   5% (9/178)   \u001b[K\rremote: Counting objects:   6% (11/178)   \u001b[K\rremote: Counting objects:   7% (13/178)   \u001b[K\rremote: Counting objects:   8% (15/178)   \u001b[K\rremote: Counting objects:   9% (17/178)   \u001b[K\rremote: Counting objects:  10% (18/178)   \u001b[K\rremote: Counting objects:  11% (20/178)   \u001b[K\rremote: Counting objects:  12% (22/178)   \u001b[K\rremote: Counting objects:  13% (24/178)   \u001b[K\rremote: Counting objects:  14% (25/178)   \u001b[K\rremote: Counting objects:  15% (27/178)   \u001b[K\rremote: Counting objects:  16% (29/178)   \u001b[K\rremote: Counting objects:  17% (31/178)   \u001b[K\rremote: Counting objects:  18% (33/178)   \u001b[K\rremote: Counting objects:  19% (34/178)   \u001b[K\rremote: Counting objects:  20% (36/178)   \u001b[K\rremote: Counting objects:  21% (38/178)   \u001b[K\rremote: Counting objects:  22% (40/178)   \u001b[K\rremote: Counting objects:  23% (41/178)   \u001b[K\rremote: Counting objects:  24% (43/178)   \u001b[K\rremote: Counting objects:  25% (45/178)   \u001b[K\rremote: Counting objects:  26% (47/178)   \u001b[K\rremote: Counting objects:  27% (49/178)   \u001b[K\rremote: Counting objects:  28% (50/178)   \u001b[K\rremote: Counting objects:  29% (52/178)   \u001b[K\rremote: Counting objects:  30% (54/178)   \u001b[K\rremote: Counting objects:  31% (56/178)   \u001b[K\rremote: Counting objects:  32% (57/178)   \u001b[K\rremote: Counting objects:  33% (59/178)   \u001b[K\rremote: Counting objects:  34% (61/178)   \u001b[K\rremote: Counting objects:  35% (63/178)   \u001b[K\rremote: Counting objects:  36% (65/178)   \u001b[K\rremote: Counting objects:  37% (66/178)   \u001b[K\rremote: Counting objects:  38% (68/178)   \u001b[K\rremote: Counting objects:  39% (70/178)   \u001b[K\rremote: Counting objects:  40% (72/178)   \u001b[K\rremote: Counting objects:  41% (73/178)   \u001b[K\rremote: Counting objects:  42% (75/178)   \u001b[K\rremote: Counting objects:  43% (77/178)   \u001b[K\rremote: Counting objects:  44% (79/178)   \u001b[K\rremote: Counting objects:  45% (81/178)   \u001b[K\rremote: Counting objects:  46% (82/178)   \u001b[K\rremote: Counting objects:  47% (84/178)   \u001b[K\rremote: Counting objects:  48% (86/178)   \u001b[K\rremote: Counting objects:  49% (88/178)   \u001b[K\rremote: Counting objects:  50% (89/178)   \u001b[K\rremote: Counting objects:  51% (91/178)   \u001b[K\rremote: Counting objects:  52% (93/178)   \u001b[K\rremote: Counting objects:  53% (95/178)   \u001b[K\rremote: Counting objects:  54% (97/178)   \u001b[K\rremote: Counting objects:  55% (98/178)   \u001b[K\rremote: Counting objects:  56% (100/178)   \u001b[K\rremote: Counting objects:  57% (102/178)   \u001b[K\rremote: Counting objects:  58% (104/178)   \u001b[K\rremote: Counting objects:  59% (106/178)   \u001b[K\rremote: Counting objects:  60% (107/178)   \u001b[K\rremote: Counting objects:  61% (109/178)   \u001b[K\rremote: Counting objects:  62% (111/178)   \u001b[K\rremote: Counting objects:  63% (113/178)   \u001b[K\rremote: Counting objects:  64% (114/178)   \u001b[K\rremote: Counting objects:  65% (116/178)   \u001b[K\rremote: Counting objects:  66% (118/178)   \u001b[K\rremote: Counting objects:  67% (120/178)   \u001b[K\rremote: Counting objects:  68% (122/178)   \u001b[K\rremote: Counting objects:  69% (123/178)   \u001b[K\rremote: Counting objects:  70% (125/178)   \u001b[K\rremote: Counting objects:  71% (127/178)   \u001b[K\rremote: Counting objects:  72% (129/178)   \u001b[K\rremote: Counting objects:  73% (130/178)   \u001b[K\rremote: Counting objects:  74% (132/178)   \u001b[K\rremote: Counting objects:  75% (134/178)   \u001b[K\rremote: Counting objects:  76% (136/178)   \u001b[K\rremote: Counting objects:  77% (138/178)   \u001b[K\rremote: Counting objects:  78% (139/178)   \u001b[K\rremote: Counting objects:  79% (141/178)   \u001b[K\rremote: Counting objects:  80% (143/178)   \u001b[K\rremote: Counting objects:  81% (145/178)   \u001b[K\rremote: Counting objects:  82% (146/178)   \u001b[K\rremote: Counting objects:  83% (148/178)   \u001b[K\rremote: Counting objects:  84% (150/178)   \u001b[K\rremote: Counting objects:  85% (152/178)   \u001b[K\rremote: Counting objects:  86% (154/178)   \u001b[K\rremote: Counting objects:  87% (155/178)   \u001b[K\rremote: Counting objects:  88% (157/178)   \u001b[K\rremote: Counting objects:  89% (159/178)   \u001b[K\rremote: Counting objects:  90% (161/178)   \u001b[K\rremote: Counting objects:  91% (162/178)   \u001b[K\rremote: Counting objects:  92% (164/178)   \u001b[K\rremote: Counting objects:  93% (166/178)   \u001b[K\rremote: Counting objects:  94% (168/178)   \u001b[K\rremote: Counting objects:  95% (170/178)   \u001b[K\rremote: Counting objects:  96% (171/178)   \u001b[K\rremote: Counting objects:  97% (173/178)   \u001b[K\rremote: Counting objects:  98% (175/178)   \u001b[K\rremote: Counting objects:  99% (177/178)   \u001b[K\rremote: Counting objects: 100% (178/178)   \u001b[K\rremote: Counting objects: 100% (178/178), done.\u001b[K\n",
            "remote: Compressing objects: 100% (152/152), done.\u001b[K\n",
            "remote: Total 178 (delta 79), reused 86 (delta 19), pack-reused 0\u001b[K\n",
            "Receiving objects: 100% (178/178), 15.43 MiB | 18.31 MiB/s, done.\n",
            "Resolving deltas: 100% (79/79), done.\n"
          ],
          "name": "stdout"
        }
      ]
    },
    {
      "metadata": {
        "deletable": true,
        "editable": true,
        "id": "htAW5DrUDkyV",
        "colab_type": "text"
      },
      "cell_type": "markdown",
      "source": [
        "# Extract Bottleneck Features for Train Set"
      ]
    },
    {
      "metadata": {
        "id": "PCY84r8Xxjwy",
        "colab_type": "code",
        "outputId": "c0128c89-144e-42d8-b654-dcc8c9b20b78",
        "colab": {
          "base_uri": "https://localhost:8080/",
          "height": 179
        }
      },
      "cell_type": "code",
      "source": [
        "import models.model_loader as model_loader\n",
        "from keras.applications.inception_v3 import InceptionV3, preprocess_input\n",
        "from keras.applications.inception_resnet_v2 import InceptionResNetV2, preprocess_input\n",
        "from keras.applications.vgg19 import VGG19, preprocess_input\n",
        "\n",
        "# load model + remove final classification layers\n",
        "\n",
        "model_tmp = model_loader.Resnet_v1_101(include_top=False)\n",
        "model = model_tmp.get_model()\n",
        "\n",
        "#model = VGG19(weights='imagenet', include_top=False, input_shape=(139, 139, 3))"
      ],
      "execution_count": 0,
      "outputs": [
        {
          "output_type": "stream",
          "text": [
            "WARNING: Logging before flag parsing goes to stderr.\n",
            "W0329 10:46:59.952578 140021580187520 __init__.py:56] Some hub symbols are not available because TensorFlow version is less than 1.14\n"
          ],
          "name": "stderr"
        },
        {
          "output_type": "stream",
          "text": [
            "WARNING:tensorflow:From /usr/local/lib/python3.6/dist-packages/tensorflow/python/framework/op_def_library.py:263: colocate_with (from tensorflow.python.framework.ops) is deprecated and will be removed in a future version.\n",
            "Instructions for updating:\n",
            "Colocations handled automatically by placer.\n"
          ],
          "name": "stdout"
        },
        {
          "output_type": "stream",
          "text": [
            "W0329 10:47:00.028757 140021580187520 deprecation.py:323] From /usr/local/lib/python3.6/dist-packages/tensorflow/python/framework/op_def_library.py:263: colocate_with (from tensorflow.python.framework.ops) is deprecated and will be removed in a future version.\n",
            "Instructions for updating:\n",
            "Colocations handled automatically by placer.\n"
          ],
          "name": "stderr"
        }
      ]
    },
    {
      "metadata": {
        "id": "ZNqANwEEORXM",
        "colab_type": "code",
        "colab": {}
      },
      "cell_type": "code",
      "source": [
        "from keras.datasets import cifar10\n",
        "import numpy as np\n",
        "\n",
        "(x_train, y_train), (x_test, y_test) = cifar10.load_data()\n",
        "y_train = np.squeeze(y_train)\n",
        "\n",
        "nof_images = 7000\n",
        "x_train = x_train[7*nof_images:50000]"
      ],
      "execution_count": 0,
      "outputs": []
    },
    {
      "metadata": {
        "deletable": true,
        "editable": true,
        "id": "OHAoU0M8DkyZ",
        "colab_type": "code",
        "colab": {}
      },
      "cell_type": "code",
      "source": [
        "import keras\n",
        "import numpy as np\n",
        "import scipy\n",
        "from scipy import misc\n",
        "import os\n",
        "import cv2\n",
        "\n",
        "# obtain bottleneck features (train)\n",
        "if os.path.exists('features_train_.npz'):\n",
        "    print('bottleneck features detected (train)')\n",
        "    features = np.load('features_train_.npz')['features']\n",
        "else:\n",
        "    print('calculating now ...')\n",
        "    # pre-process the train data\n",
        "    tmp = []\n",
        "    for i in range(0,len(x_train)):\n",
        "      tmp.append(cv2.resize(x_train[i], (139, 139)))\n",
        "      \n",
        "    big_x_train = np.array(tmp).astype('float32') \n",
        "    model_input_train = model_tmp.preprocess_input(big_x_train)\n",
        "    #model_input_train = preprocess_input(big_x_train)\n",
        "    \n",
        "    # extract, process, and save bottleneck features\n",
        "    features = model.predict(model_input_train)\n",
        "    features = np.squeeze(features)\n",
        "    np.savez('features_train_8', features=features)\n",
        "    print('bottleneck features saved (train)')"
      ],
      "execution_count": 0,
      "outputs": []
    },
    {
      "metadata": {
        "deletable": true,
        "editable": true,
        "id": "gSnebQy1Dkyv",
        "colab_type": "text"
      },
      "cell_type": "markdown",
      "source": [
        "# Plot UMAP Embedding of Bottleneck Features for Train Set"
      ]
    },
    {
      "metadata": {
        "deletable": true,
        "editable": true,
        "id": "4lC4mdUaDkyz",
        "colab_type": "code",
        "colab": {}
      },
      "cell_type": "code",
      "source": [
        "import umap\n",
        "\n",
        "# reshape bottleneck features + reduce dimensionality with t-SNE\n",
        "if os.path.exists('umap_features.npz'):\n",
        "    umap_features = np.load('umap_features.npz')['umap_features']\n",
        "else:\n",
        "    print('calculating now ...')\n",
        "    umap_features = umap.UMAP(n_neighbors=5,\n",
        "                      min_dist=0.3,\n",
        "                      metric='correlation').fit_transform(np.reshape(features,(features.shape[0],np.prod(features.shape[1:]))))\n",
        "    np.savez('umap_features_8', umap_features=umap_features)\n",
        "print('umap features saved')\n"
      ],
      "execution_count": 0,
      "outputs": []
    },
    {
      "metadata": {
        "id": "5_ZtpnuHqdmY",
        "colab_type": "code",
        "colab": {}
      },
      "cell_type": "code",
      "source": [
        "import matplotlib.pyplot as plt\n",
        "%matplotlib inline\n",
        "\n",
        "# plot the features\n",
        "plt.figure()\n",
        "sc = plt.scatter(umap_features[:,0], umap_features[:,1], c=plt.cm.jet(y_train[49000:50000]/10), s=10, edgecolors='none')\n",
        "#plt.colorbar(sc)\n",
        "plt.show()"
      ],
      "execution_count": 0,
      "outputs": []
    }
  ]
}