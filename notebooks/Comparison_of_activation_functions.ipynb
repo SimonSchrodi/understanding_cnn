{
  "nbformat": 4,
  "nbformat_minor": 0,
  "metadata": {
    "colab": {
      "name": "Comparison of activation functions.ipynb",
      "version": "0.3.2",
      "provenance": [],
      "toc_visible": true,
      "include_colab_link": true
    },
    "kernelspec": {
      "name": "python3",
      "display_name": "Python 3"
    },
    "accelerator": "GPU"
  },
  "cells": [
    {
      "cell_type": "markdown",
      "metadata": {
        "id": "view-in-github",
        "colab_type": "text"
      },
      "source": [
        "<a href=\"https://colab.research.google.com/github/infomon/understanding_cnn/blob/master/notebooks/Comparison_of_activation_functions.ipynb\" target=\"_parent\"><img src=\"https://colab.research.google.com/assets/colab-badge.svg\" alt=\"Open In Colab\"/></a>"
      ]
    },
    {
      "cell_type": "markdown",
      "metadata": {
        "id": "TmcVw3xBztN5",
        "colab_type": "text"
      },
      "source": [
        "# Analysis of activation functions\n",
        "This notebooks compares different activations functions used in a simple 5-layer CNN for MNIST. For visualizing Integrated Gradients is used."
      ]
    },
    {
      "cell_type": "markdown",
      "metadata": {
        "id": "rsEO4MXr0ZjE",
        "colab_type": "text"
      },
      "source": [
        "## Imports"
      ]
    },
    {
      "cell_type": "code",
      "metadata": {
        "id": "UD6qpnw5zsdi",
        "colab_type": "code",
        "colab": {
          "base_uri": "https://localhost:8080/",
          "height": 248
        },
        "outputId": "0e3928f6-9917-46d2-853e-9feb67e01a7d"
      },
      "source": [
        "!pip install -q git+https://github.com/albermax/innvestigate\n",
        "!git clone https://github.com/infomon/understanding_cnn\n",
        "import shutil\n",
        "import os\n",
        "if not os.path.isfile(\"utils.py\"):\n",
        "  shutil.move(\"/content/understanding_cnn/utils/utils.py\", \"/content\")\n",
        "if not os.path.isfile(\"utils_mnist.py\"):\n",
        "  shutil.move(\"/content/understanding_cnn/utils/utils_mnist.py\", \"/content\")\n",
        "!rm -r understanding_cnn\n",
        "\n",
        "!git clone https://github.com/hiranumn/IntegratedGradients\n",
        "if not os.path.isfile(\"IntegratedGradients.py\"):\n",
        "  shutil.move(\"/content/IntegratedGradients/IntegratedGradients.py\", \"/content\")\n",
        "!rm -r IntegratedGradients"
      ],
      "execution_count": 7,
      "outputs": [
        {
          "output_type": "stream",
          "text": [
            "  Building wheel for innvestigate (setup.py) ... \u001b[?25l\u001b[?25hdone\n",
            "Cloning into 'understanding_cnn'...\n",
            "remote: Enumerating objects: 92, done.\u001b[K\n",
            "remote: Counting objects: 100% (92/92), done.\u001b[K\n",
            "remote: Compressing objects: 100% (87/87), done.\u001b[K\n",
            "remote: Total 313 (delta 41), reused 14 (delta 5), pack-reused 221\u001b[K\n",
            "Receiving objects: 100% (313/313), 38.49 MiB | 40.22 MiB/s, done.\n",
            "Resolving deltas: 100% (144/144), done.\n",
            "Cloning into 'IntegratedGradients'...\n",
            "remote: Enumerating objects: 214, done.\u001b[K\n",
            "remote: Total 214 (delta 0), reused 0 (delta 0), pack-reused 214\u001b[K\n",
            "Receiving objects: 100% (214/214), 884.57 KiB | 6.80 MiB/s, done.\n",
            "Resolving deltas: 100% (95/95), done.\n"
          ],
          "name": "stdout"
        }
      ]
    },
    {
      "cell_type": "code",
      "metadata": {
        "id": "L8_j2Ecs0fKB",
        "colab_type": "code",
        "colab": {}
      },
      "source": [
        "%load_ext autoreload\n",
        "%autoreload 2\n",
        "\n",
        "import warnings\n",
        "warnings.simplefilter('ignore')"
      ],
      "execution_count": 0,
      "outputs": []
    },
    {
      "cell_type": "code",
      "metadata": {
        "id": "Tq1AuJyJ0jWv",
        "colab_type": "code",
        "colab": {}
      },
      "source": [
        "%matplotlib inline  \n",
        "\n",
        "import imp\n",
        "import numpy as np\n",
        "import os\n",
        "\n",
        "import keras\n",
        "import keras.backend\n",
        "import keras.models\n",
        "from keras.models import load_model\n",
        "from keras.models import Sequential\n",
        "from keras.layers import Dense, Dropout, Flatten\n",
        "from keras.layers import Conv2D, MaxPooling2D\n",
        "from keras.callbacks import ModelCheckpoint\n",
        "\n",
        "import innvestigate\n",
        "import innvestigate.utils as iutils\n",
        "\n",
        "# Use utility libraries to focus on relevant iNNvestigate routines.\n",
        "eutils = imp.load_source(\"utils\", \"utils.py\")\n",
        "mnistutils = imp.load_source(\"utils_mnist\", \"utils_mnist.py\")\n",
        "IntegratedGradients = imp.load_source(\"IntegratedGradients\", \"IntegratedGradients.py\")\n",
        "\n",
        "from IntegratedGradients import *"
      ],
      "execution_count": 0,
      "outputs": []
    },
    {
      "cell_type": "markdown",
      "metadata": {
        "id": "JuXwAQRF0lGo",
        "colab_type": "text"
      },
      "source": [
        "## Data\n",
        "Load the MNIST dataset for training and analysis"
      ]
    },
    {
      "cell_type": "code",
      "metadata": {
        "id": "ER0jPK_r0rPC",
        "colab_type": "code",
        "colab": {
          "base_uri": "https://localhost:8080/",
          "height": 88
        },
        "outputId": "3838e4d5-67b5-4581-db62-1ebf31984a63"
      },
      "source": [
        "# Load data\n",
        "# returns x_train, y_train, x_test, y_test as numpy.ndarray\n",
        "data_not_preprocessed = mnistutils.fetch_data()\n",
        "\n",
        "# Create preprocessing functions\n",
        "input_range = [-1, 1]\n",
        "preprocess, revert_preprocessing = mnistutils.create_preprocessing_f(data_not_preprocessed[0], input_range)\n",
        "\n",
        "# Preprocess data\n",
        "data = (\n",
        "    preprocess(data_not_preprocessed[0]), data_not_preprocessed[1],\n",
        "    preprocess(data_not_preprocessed[2]), data_not_preprocessed[3]\n",
        ")\n",
        "\n",
        "num_classes = len(np.unique(data[1]))\n",
        "label_to_class_name = [str(i) for i in range(num_classes)]\n",
        "\n",
        "x_train, y_train, x_test, y_test = data\n",
        "# convert class vectors to binary class matrices\n",
        "y_train = keras.utils.to_categorical(y_train, num_classes)\n",
        "y_test = keras.utils.to_categorical(y_test, num_classes)"
      ],
      "execution_count": 39,
      "outputs": [
        {
          "output_type": "stream",
          "text": [
            "Extracting ../notebooks/MNIST_data/train-images-idx3-ubyte.gz\n",
            "Extracting ../notebooks/MNIST_data/train-labels-idx1-ubyte.gz\n",
            "Extracting ../notebooks/MNIST_data/t10k-images-idx3-ubyte.gz\n",
            "Extracting ../notebooks/MNIST_data/t10k-labels-idx1-ubyte.gz\n"
          ],
          "name": "stdout"
        }
      ]
    },
    {
      "cell_type": "code",
      "metadata": {
        "id": "UQGYsU0Ddod_",
        "colab_type": "code",
        "colab": {
          "base_uri": "https://localhost:8080/",
          "height": 88
        },
        "outputId": "6cd74a62-ec5b-4beb-8132-ba9cf2b51f49"
      },
      "source": [
        "# MNIST DATA\n",
        "from tensorflow.examples.tutorials.mnist import input_data\n",
        "mnist = input_data.read_data_sets(\"../notebooks/MNIST_data/\", one_hot=True)\n",
        "\n",
        "X = np.expand_dims(mnist.train._images.reshape(55000,28, 28), 3)\n",
        "Y = mnist.train._labels\n",
        "X = np.expand_dims(mnist.test._images.reshape(10000,28, 28), 3)\n",
        "Y = mnist.test._labels"
      ],
      "execution_count": 85,
      "outputs": [
        {
          "output_type": "stream",
          "text": [
            "Extracting ../notebooks/MNIST_data/train-images-idx3-ubyte.gz\n",
            "Extracting ../notebooks/MNIST_data/train-labels-idx1-ubyte.gz\n",
            "Extracting ../notebooks/MNIST_data/t10k-images-idx3-ubyte.gz\n",
            "Extracting ../notebooks/MNIST_data/t10k-labels-idx1-ubyte.gz\n"
          ],
          "name": "stdout"
        }
      ]
    },
    {
      "cell_type": "markdown",
      "metadata": {
        "id": "rg0WB3LD0vMw",
        "colab_type": "text"
      },
      "source": [
        "## Models\n",
        "Trains CNNs"
      ]
    },
    {
      "cell_type": "code",
      "metadata": {
        "id": "t8bwCIkc07jF",
        "colab_type": "code",
        "colab": {}
      },
      "source": [
        "activation_functions = [\"relu\",\"sigmoid\",\"tanh\"]"
      ],
      "execution_count": 0,
      "outputs": []
    },
    {
      "cell_type": "code",
      "metadata": {
        "id": "FORc-_-v0uPy",
        "colab_type": "code",
        "colab": {
          "base_uri": "https://localhost:8080/",
          "height": 1850
        },
        "outputId": "2518463c-2ce6-41a2-ec0d-f36a116a2efd"
      },
      "source": [
        "for activation_function in activation_functions:  \n",
        "  batch_size = 128\n",
        "  epochs = 15\n",
        "  input_shape = (28, 28, 1)\n",
        "\n",
        "  model = Sequential()\n",
        "  model.add(Conv2D(32, kernel_size=(3, 3),\n",
        "                  activation=activation_function,\n",
        "                   input_shape=input_shape))\n",
        "  model.add(Conv2D(64, (3, 3), activation=activation_function))\n",
        "  model.add(MaxPooling2D(pool_size=(2, 2)))\n",
        "  model.add(Dropout(0.25))\n",
        "  model.add(Flatten())\n",
        "  model.add(Dense(128, activation=activation_function))\n",
        "  model.add(Dropout(0.5))\n",
        "  model.add(Dense(num_classes, activation='softmax'))\n",
        "\n",
        "  model.compile(loss=keras.losses.categorical_crossentropy,\n",
        "                optimizer='adam',\n",
        "                metrics=['accuracy'])\n",
        "\n",
        "  mcp_save = ModelCheckpoint('cnn_MNIST_'+activation_function+'_model.hdf5', save_best_only=True, monitor='val_acc', mode='max')\n",
        "\n",
        "  model.fit(x_train, y_train,\n",
        "            batch_size=batch_size,\n",
        "            epochs=epochs,\n",
        "            verbose=1,\n",
        "            callbacks=[mcp_save],\n",
        "            validation_data=(x_test, y_test))"
      ],
      "execution_count": 14,
      "outputs": [
        {
          "output_type": "stream",
          "text": [
            "WARNING:tensorflow:From /usr/local/lib/python3.6/dist-packages/tensorflow/python/framework/op_def_library.py:263: colocate_with (from tensorflow.python.framework.ops) is deprecated and will be removed in a future version.\n",
            "Instructions for updating:\n",
            "Colocations handled automatically by placer.\n",
            "WARNING:tensorflow:From /usr/local/lib/python3.6/dist-packages/keras/backend/tensorflow_backend.py:3445: calling dropout (from tensorflow.python.ops.nn_ops) with keep_prob is deprecated and will be removed in a future version.\n",
            "Instructions for updating:\n",
            "Please use `rate` instead of `keep_prob`. Rate should be set to `rate = 1 - keep_prob`.\n",
            "WARNING:tensorflow:From /usr/local/lib/python3.6/dist-packages/tensorflow/python/ops/math_ops.py:3066: to_int32 (from tensorflow.python.ops.math_ops) is deprecated and will be removed in a future version.\n",
            "Instructions for updating:\n",
            "Use tf.cast instead.\n",
            "Train on 60000 samples, validate on 10000 samples\n",
            "Epoch 1/15\n",
            "60000/60000 [==============================] - 8s 139us/step - loss: 0.2774 - acc: 0.9149 - val_loss: 0.0539 - val_acc: 0.9825\n",
            "Epoch 2/15\n",
            "60000/60000 [==============================] - 4s 74us/step - loss: 0.0993 - acc: 0.9697 - val_loss: 0.0389 - val_acc: 0.9871\n",
            "Epoch 3/15\n",
            "60000/60000 [==============================] - 4s 74us/step - loss: 0.0746 - acc: 0.9777 - val_loss: 0.0409 - val_acc: 0.9873\n",
            "Epoch 4/15\n",
            "60000/60000 [==============================] - 4s 74us/step - loss: 0.0603 - acc: 0.9821 - val_loss: 0.0329 - val_acc: 0.9888\n",
            "Epoch 5/15\n",
            "60000/60000 [==============================] - 4s 75us/step - loss: 0.0502 - acc: 0.9847 - val_loss: 0.0328 - val_acc: 0.9898\n",
            "Epoch 6/15\n",
            "60000/60000 [==============================] - 4s 74us/step - loss: 0.0453 - acc: 0.9859 - val_loss: 0.0294 - val_acc: 0.9909\n",
            "Epoch 7/15\n",
            "60000/60000 [==============================] - 4s 74us/step - loss: 0.0426 - acc: 0.9870 - val_loss: 0.0276 - val_acc: 0.9908\n",
            "Epoch 8/15\n",
            "60000/60000 [==============================] - 4s 75us/step - loss: 0.0350 - acc: 0.9893 - val_loss: 0.0268 - val_acc: 0.9922\n",
            "Epoch 9/15\n",
            "60000/60000 [==============================] - 4s 74us/step - loss: 0.0343 - acc: 0.9889 - val_loss: 0.0303 - val_acc: 0.9912\n",
            "Epoch 10/15\n",
            "60000/60000 [==============================] - 4s 74us/step - loss: 0.0308 - acc: 0.9898 - val_loss: 0.0300 - val_acc: 0.9914\n",
            "Epoch 11/15\n",
            "60000/60000 [==============================] - 4s 74us/step - loss: 0.0259 - acc: 0.9918 - val_loss: 0.0307 - val_acc: 0.9919\n",
            "Epoch 12/15\n",
            "60000/60000 [==============================] - 4s 74us/step - loss: 0.0259 - acc: 0.9914 - val_loss: 0.0257 - val_acc: 0.9927\n",
            "Epoch 13/15\n",
            "60000/60000 [==============================] - 4s 74us/step - loss: 0.0237 - acc: 0.9922 - val_loss: 0.0324 - val_acc: 0.9903\n",
            "Epoch 14/15\n",
            "60000/60000 [==============================] - 4s 74us/step - loss: 0.0236 - acc: 0.9920 - val_loss: 0.0293 - val_acc: 0.9914\n",
            "Epoch 15/15\n",
            "60000/60000 [==============================] - 4s 75us/step - loss: 0.0199 - acc: 0.9934 - val_loss: 0.0283 - val_acc: 0.9927\n",
            "Train on 60000 samples, validate on 10000 samples\n",
            "Epoch 1/15\n",
            "60000/60000 [==============================] - 5s 86us/step - loss: 1.2371 - acc: 0.5907 - val_loss: 0.2726 - val_acc: 0.9274\n",
            "Epoch 2/15\n",
            "60000/60000 [==============================] - 5s 77us/step - loss: 0.3085 - acc: 0.9148 - val_loss: 0.1622 - val_acc: 0.9542\n",
            "Epoch 3/15\n",
            "60000/60000 [==============================] - 5s 76us/step - loss: 0.2074 - acc: 0.9423 - val_loss: 0.1025 - val_acc: 0.9692\n",
            "Epoch 4/15\n",
            "60000/60000 [==============================] - 5s 76us/step - loss: 0.1488 - acc: 0.9590 - val_loss: 0.0744 - val_acc: 0.9768\n",
            "Epoch 5/15\n",
            "60000/60000 [==============================] - 5s 77us/step - loss: 0.1165 - acc: 0.9677 - val_loss: 0.0620 - val_acc: 0.9797\n",
            "Epoch 6/15\n",
            "60000/60000 [==============================] - 5s 75us/step - loss: 0.0984 - acc: 0.9720 - val_loss: 0.0592 - val_acc: 0.9809\n",
            "Epoch 7/15\n",
            "60000/60000 [==============================] - 5s 76us/step - loss: 0.0853 - acc: 0.9755 - val_loss: 0.0479 - val_acc: 0.9835\n",
            "Epoch 8/15\n",
            "60000/60000 [==============================] - 5s 76us/step - loss: 0.0764 - acc: 0.9777 - val_loss: 0.0456 - val_acc: 0.9846\n",
            "Epoch 9/15\n",
            "60000/60000 [==============================] - 5s 76us/step - loss: 0.0685 - acc: 0.9799 - val_loss: 0.0412 - val_acc: 0.9860\n",
            "Epoch 10/15\n",
            "60000/60000 [==============================] - 5s 76us/step - loss: 0.0623 - acc: 0.9814 - val_loss: 0.0407 - val_acc: 0.9863\n",
            "Epoch 11/15\n",
            "60000/60000 [==============================] - 5s 76us/step - loss: 0.0576 - acc: 0.9823 - val_loss: 0.0357 - val_acc: 0.9879\n",
            "Epoch 12/15\n",
            "60000/60000 [==============================] - 5s 76us/step - loss: 0.0544 - acc: 0.9838 - val_loss: 0.0384 - val_acc: 0.9862\n",
            "Epoch 13/15\n",
            "60000/60000 [==============================] - 5s 75us/step - loss: 0.0523 - acc: 0.9846 - val_loss: 0.0362 - val_acc: 0.9873\n",
            "Epoch 14/15\n",
            "60000/60000 [==============================] - 4s 75us/step - loss: 0.0472 - acc: 0.9861 - val_loss: 0.0349 - val_acc: 0.9890\n",
            "Epoch 15/15\n",
            "60000/60000 [==============================] - 4s 75us/step - loss: 0.0446 - acc: 0.9869 - val_loss: 0.0360 - val_acc: 0.9887\n",
            "Train on 60000 samples, validate on 10000 samples\n",
            "Epoch 1/15\n",
            "60000/60000 [==============================] - 5s 83us/step - loss: 0.2577 - acc: 0.9226 - val_loss: 0.0853 - val_acc: 0.9733\n",
            "Epoch 2/15\n",
            "60000/60000 [==============================] - 5s 76us/step - loss: 0.1051 - acc: 0.9677 - val_loss: 0.0647 - val_acc: 0.9786\n",
            "Epoch 3/15\n",
            "60000/60000 [==============================] - 5s 79us/step - loss: 0.0869 - acc: 0.9728 - val_loss: 0.0577 - val_acc: 0.9814\n",
            "Epoch 4/15\n",
            "60000/60000 [==============================] - 5s 79us/step - loss: 0.0770 - acc: 0.9760 - val_loss: 0.0509 - val_acc: 0.9831\n",
            "Epoch 5/15\n",
            "60000/60000 [==============================] - 5s 75us/step - loss: 0.0702 - acc: 0.9778 - val_loss: 0.0497 - val_acc: 0.9838\n",
            "Epoch 6/15\n",
            "60000/60000 [==============================] - 5s 75us/step - loss: 0.0679 - acc: 0.9789 - val_loss: 0.0583 - val_acc: 0.9817\n",
            "Epoch 7/15\n",
            "60000/60000 [==============================] - 5s 75us/step - loss: 0.0622 - acc: 0.9799 - val_loss: 0.0517 - val_acc: 0.9834\n",
            "Epoch 8/15\n",
            "60000/60000 [==============================] - 4s 75us/step - loss: 0.0608 - acc: 0.9802 - val_loss: 0.0454 - val_acc: 0.9848\n",
            "Epoch 9/15\n",
            "60000/60000 [==============================] - 5s 75us/step - loss: 0.0610 - acc: 0.9801 - val_loss: 0.0495 - val_acc: 0.9842\n",
            "Epoch 10/15\n",
            "60000/60000 [==============================] - 5s 75us/step - loss: 0.0584 - acc: 0.9807 - val_loss: 0.0467 - val_acc: 0.9846\n",
            "Epoch 11/15\n",
            "60000/60000 [==============================] - 4s 75us/step - loss: 0.0534 - acc: 0.9825 - val_loss: 0.0485 - val_acc: 0.9851\n",
            "Epoch 12/15\n",
            "60000/60000 [==============================] - 5s 75us/step - loss: 0.0562 - acc: 0.9812 - val_loss: 0.0485 - val_acc: 0.9849\n",
            "Epoch 13/15\n",
            "60000/60000 [==============================] - 5s 75us/step - loss: 0.0543 - acc: 0.9823 - val_loss: 0.0527 - val_acc: 0.9827\n",
            "Epoch 14/15\n",
            "60000/60000 [==============================] - 4s 75us/step - loss: 0.0505 - acc: 0.9836 - val_loss: 0.0498 - val_acc: 0.9851\n",
            "Epoch 15/15\n",
            "60000/60000 [==============================] - 4s 75us/step - loss: 0.0500 - acc: 0.9836 - val_loss: 0.0499 - val_acc: 0.9843\n"
          ],
          "name": "stdout"
        }
      ]
    },
    {
      "cell_type": "code",
      "metadata": {
        "id": "bpmluxtz3hpy",
        "colab_type": "code",
        "colab": {
          "base_uri": "https://localhost:8080/",
          "height": 606
        },
        "outputId": "f9f7c321-4ca1-428e-e98f-bdea9ea75994"
      },
      "source": [
        "from keras.layers import LeakyReLU\n",
        "\n",
        "alpha = 0.3\n",
        "batch_size = 128\n",
        "epochs = 15\n",
        "input_shape = (28, 28, 1)\n",
        "\n",
        "model = Sequential()\n",
        "model.add(Conv2D(32, kernel_size=(3, 3),\n",
        "                 input_shape=input_shape))\n",
        "model.add(LeakyReLU(alpha))\n",
        "model.add(Conv2D(64, (3, 3)))\n",
        "model.add(LeakyReLU(alpha))\n",
        "model.add(MaxPooling2D(pool_size=(2, 2)))\n",
        "model.add(Dropout(0.25))\n",
        "model.add(Flatten())\n",
        "model.add(Dense(128))\n",
        "model.add(LeakyReLU(alpha))\n",
        "model.add(Dropout(0.5))\n",
        "model.add(Dense(num_classes, activation='softmax'))\n",
        "\n",
        "model.compile(loss=keras.losses.categorical_crossentropy,\n",
        "              optimizer='adam',\n",
        "              metrics=['accuracy'])\n",
        "\n",
        "mcp_save = ModelCheckpoint('cnn_MNIST_'+\"LeakyReLU\"+'_model.hdf5', save_best_only=True, monitor='val_acc', mode='max')\n",
        "\n",
        "model.fit(x_train, y_train,\n",
        "          batch_size=batch_size,\n",
        "          epochs=epochs,\n",
        "          verbose=1,\n",
        "          callbacks=[mcp_save],\n",
        "          validation_data=(x_test, y_test))"
      ],
      "execution_count": 83,
      "outputs": [
        {
          "output_type": "stream",
          "text": [
            "Train on 55000 samples, validate on 10000 samples\n",
            "Epoch 1/15\n",
            "55000/55000 [==============================] - 9s 166us/step - loss: 0.2142 - acc: 0.9348 - val_loss: 2.1678 - val_acc: 0.7113\n",
            "Epoch 2/15\n",
            "55000/55000 [==============================] - 5s 92us/step - loss: 0.0816 - acc: 0.9757 - val_loss: 1.5596 - val_acc: 0.7861\n",
            "Epoch 3/15\n",
            "55000/55000 [==============================] - 5s 92us/step - loss: 0.0631 - acc: 0.9806 - val_loss: 0.8552 - val_acc: 0.8534\n",
            "Epoch 4/15\n",
            "55000/55000 [==============================] - 5s 89us/step - loss: 0.0546 - acc: 0.9822 - val_loss: 2.0358 - val_acc: 0.7422\n",
            "Epoch 5/15\n",
            "55000/55000 [==============================] - 5s 88us/step - loss: 0.0482 - acc: 0.9845 - val_loss: 0.6936 - val_acc: 0.8885\n",
            "Epoch 6/15\n",
            "55000/55000 [==============================] - 5s 88us/step - loss: 0.0416 - acc: 0.9865 - val_loss: 1.1919 - val_acc: 0.8388\n",
            "Epoch 7/15\n",
            "55000/55000 [==============================] - 5s 88us/step - loss: 0.0389 - acc: 0.9873 - val_loss: 0.7056 - val_acc: 0.8893\n",
            "Epoch 8/15\n",
            "55000/55000 [==============================] - 5s 89us/step - loss: 0.0343 - acc: 0.9889 - val_loss: 0.3581 - val_acc: 0.9410\n",
            "Epoch 9/15\n",
            "55000/55000 [==============================] - 5s 88us/step - loss: 0.0342 - acc: 0.9891 - val_loss: 0.2781 - val_acc: 0.9516\n",
            "Epoch 10/15\n",
            "55000/55000 [==============================] - 5s 88us/step - loss: 0.0315 - acc: 0.9898 - val_loss: 0.2105 - val_acc: 0.9653\n",
            "Epoch 11/15\n",
            "55000/55000 [==============================] - 5s 91us/step - loss: 0.0274 - acc: 0.9909 - val_loss: 0.1911 - val_acc: 0.9709\n",
            "Epoch 12/15\n",
            "55000/55000 [==============================] - 5s 90us/step - loss: 0.0269 - acc: 0.9912 - val_loss: 0.2005 - val_acc: 0.9697\n",
            "Epoch 13/15\n",
            "55000/55000 [==============================] - 5s 87us/step - loss: 0.0251 - acc: 0.9920 - val_loss: 0.5400 - val_acc: 0.9287\n",
            "Epoch 14/15\n",
            "55000/55000 [==============================] - 5s 88us/step - loss: 0.0235 - acc: 0.9917 - val_loss: 0.2179 - val_acc: 0.9706\n",
            "Epoch 15/15\n",
            "55000/55000 [==============================] - 5s 89us/step - loss: 0.0223 - acc: 0.9928 - val_loss: 0.1234 - val_acc: 0.9828\n"
          ],
          "name": "stdout"
        },
        {
          "output_type": "execute_result",
          "data": {
            "text/plain": [
              "<keras.callbacks.History at 0x7f4ee096be10>"
            ]
          },
          "metadata": {
            "tags": []
          },
          "execution_count": 83
        }
      ]
    },
    {
      "cell_type": "code",
      "metadata": {
        "id": "5y54u3334e-b",
        "colab_type": "code",
        "colab": {
          "base_uri": "https://localhost:8080/",
          "height": 606
        },
        "outputId": "34e31b49-2250-4e8e-aea3-ecabc90660b0"
      },
      "source": [
        "from keras.layers import PReLU\n",
        "\n",
        "batch_size = 128\n",
        "epochs = 15\n",
        "input_shape = (28, 28, 1)\n",
        "\n",
        "model = Sequential()\n",
        "model.add(Conv2D(32, kernel_size=(3, 3),\n",
        "                 input_shape=input_shape))\n",
        "model.add(PReLU())\n",
        "model.add(Conv2D(64, (3, 3)))\n",
        "model.add(PReLU())\n",
        "model.add(MaxPooling2D(pool_size=(2, 2)))\n",
        "model.add(Dropout(0.25))\n",
        "model.add(Flatten())\n",
        "model.add(Dense(128))\n",
        "model.add(PReLU())\n",
        "model.add(Dropout(0.5))\n",
        "model.add(Dense(num_classes, activation='softmax'))\n",
        "\n",
        "model.compile(loss=keras.losses.categorical_crossentropy,\n",
        "              optimizer='adam',\n",
        "              metrics=['accuracy'])\n",
        "\n",
        "mcp_save = ModelCheckpoint('cnn_MNIST_'+\"PReLU\"+'_model.hdf5', save_best_only=True, monitor='val_acc', mode='max')\n",
        "\n",
        "model.fit(x_train, y_train,\n",
        "          batch_size=batch_size,\n",
        "          epochs=epochs,\n",
        "          verbose=1,\n",
        "          callbacks=[mcp_save],\n",
        "          validation_data=(x_test, y_test))"
      ],
      "execution_count": 84,
      "outputs": [
        {
          "output_type": "stream",
          "text": [
            "Train on 55000 samples, validate on 10000 samples\n",
            "Epoch 1/15\n",
            "55000/55000 [==============================] - 11s 201us/step - loss: 0.2416 - acc: 0.9257 - val_loss: 0.1039 - val_acc: 0.9672\n",
            "Epoch 2/15\n",
            "55000/55000 [==============================] - 7s 122us/step - loss: 0.0801 - acc: 0.9760 - val_loss: 0.1409 - val_acc: 0.9618\n",
            "Epoch 3/15\n",
            "55000/55000 [==============================] - 7s 122us/step - loss: 0.0579 - acc: 0.9821 - val_loss: 0.1427 - val_acc: 0.9614\n",
            "Epoch 4/15\n",
            "55000/55000 [==============================] - 7s 122us/step - loss: 0.0478 - acc: 0.9845 - val_loss: 0.1214 - val_acc: 0.9702\n",
            "Epoch 5/15\n",
            "55000/55000 [==============================] - 7s 122us/step - loss: 0.0394 - acc: 0.9877 - val_loss: 0.0981 - val_acc: 0.9773\n",
            "Epoch 6/15\n",
            "55000/55000 [==============================] - 7s 122us/step - loss: 0.0332 - acc: 0.9893 - val_loss: 0.1332 - val_acc: 0.9740\n",
            "Epoch 7/15\n",
            "55000/55000 [==============================] - 7s 121us/step - loss: 0.0319 - acc: 0.9900 - val_loss: 0.1410 - val_acc: 0.9716\n",
            "Epoch 8/15\n",
            "55000/55000 [==============================] - 7s 122us/step - loss: 0.0268 - acc: 0.9916 - val_loss: 0.1261 - val_acc: 0.9772\n",
            "Epoch 9/15\n",
            "55000/55000 [==============================] - 7s 123us/step - loss: 0.0264 - acc: 0.9912 - val_loss: 0.0796 - val_acc: 0.9830\n",
            "Epoch 10/15\n",
            "55000/55000 [==============================] - 7s 126us/step - loss: 0.0223 - acc: 0.9929 - val_loss: 0.1413 - val_acc: 0.9752\n",
            "Epoch 11/15\n",
            "55000/55000 [==============================] - 7s 121us/step - loss: 0.0199 - acc: 0.9937 - val_loss: 0.1151 - val_acc: 0.9800\n",
            "Epoch 12/15\n",
            "55000/55000 [==============================] - 7s 121us/step - loss: 0.0200 - acc: 0.9932 - val_loss: 0.1146 - val_acc: 0.9801\n",
            "Epoch 13/15\n",
            "55000/55000 [==============================] - 7s 121us/step - loss: 0.0171 - acc: 0.9943 - val_loss: 0.1127 - val_acc: 0.9808\n",
            "Epoch 14/15\n",
            "55000/55000 [==============================] - 7s 121us/step - loss: 0.0188 - acc: 0.9941 - val_loss: 0.1011 - val_acc: 0.9832\n",
            "Epoch 15/15\n",
            "55000/55000 [==============================] - 7s 120us/step - loss: 0.0160 - acc: 0.9949 - val_loss: 0.1510 - val_acc: 0.9766\n"
          ],
          "name": "stdout"
        },
        {
          "output_type": "execute_result",
          "data": {
            "text/plain": [
              "<keras.callbacks.History at 0x7f4ee024d940>"
            ]
          },
          "metadata": {
            "tags": []
          },
          "execution_count": 84
        }
      ]
    },
    {
      "cell_type": "markdown",
      "metadata": {
        "id": "kDWp3kHi24ma",
        "colab_type": "text"
      },
      "source": [
        "## Analysis"
      ]
    },
    {
      "cell_type": "code",
      "metadata": {
        "id": "XXjcW1sBAAOq",
        "colab_type": "code",
        "colab": {}
      },
      "source": [
        "model_file_names = [\"cnn_MNIST_sigmoid_model.hdf5\",\n",
        "                    \"cnn_MNIST_tanh_model.hdf5\",\n",
        "                    \"cnn_MNIST_relu_model.hdf5\",\n",
        "                    \"cnn_MNIST_LeakyReLU_model.hdf5\",\n",
        "                    \"cnn_MNIST_PReLU_model.hdf5\",\n",
        "                   ]"
      ],
      "execution_count": 0,
      "outputs": []
    },
    {
      "cell_type": "code",
      "metadata": {
        "id": "JQgcpxotARAP",
        "colab_type": "code",
        "colab": {
          "base_uri": "https://localhost:8080/",
          "height": 461
        },
        "outputId": "9458833b-407d-4717-f593-16cf4291b977"
      },
      "source": [
        "n = 10\n",
        "test_images = list(zip(X[:n], Y[:n]))\n",
        "\n",
        "analysis = np.zeros([len(model_file_names),len(test_images),10,28,28,1])\n",
        "\n",
        "for j,model_name in enumerate(model_file_names):\n",
        "  print(model_name)\n",
        "  model = load_model(model_name)\n",
        "  model.compile(loss=keras.losses.categorical_crossentropy,\n",
        "              optimizer='adam',\n",
        "              metrics=['accuracy'])\n",
        "  \n",
        "  ig = integrated_gradients(model)  \n",
        "  \n",
        "  for i, (x, y) in enumerate(test_images):\n",
        "    # Add batch axis.\n",
        "    #x = x[None, :, :, :]\n",
        "    \n",
        "    # Predict final activations, probabilites, and label.\n",
        "    #presm = model_wo_softmax.predict_on_batch(x)[0]\n",
        "    #prob = model.predict_on_batch(x)[0]\n",
        "    #y_hat = prob.argmax()\n",
        "    \n",
        "    for k in range(0,10):\n",
        "      analysis[j,i,k] = ig.explain(x,outc=k)"
      ],
      "execution_count": 91,
      "outputs": [
        {
          "output_type": "stream",
          "text": [
            "cnn_MNIST_sigmoid_model.hdf5\n",
            "Evaluated output channel (0-based index): All\n",
            "Building gradient functions\n",
            "Progress: 100.0%\n",
            "Done.\n",
            "cnn_MNIST_tanh_model.hdf5\n",
            "Evaluated output channel (0-based index): All\n",
            "Building gradient functions\n",
            "Progress: 100.0%\n",
            "Done.\n",
            "cnn_MNIST_relu_model.hdf5\n",
            "Evaluated output channel (0-based index): All\n",
            "Building gradient functions\n",
            "Progress: 100.0%\n",
            "Done.\n",
            "cnn_MNIST_LeakyReLU_model.hdf5\n",
            "Evaluated output channel (0-based index): All\n",
            "Building gradient functions\n",
            "Progress: 100.0%\n",
            "Done.\n",
            "cnn_MNIST_PReLU_model.hdf5\n",
            "Evaluated output channel (0-based index): All\n",
            "Building gradient functions\n",
            "Progress: 100.0%\n",
            "Done.\n"
          ],
          "name": "stdout"
        }
      ]
    },
    {
      "cell_type": "code",
      "metadata": {
        "id": "NYOeS-AscJ-6",
        "colab_type": "code",
        "colab": {
          "base_uri": "https://localhost:8080/",
          "height": 758
        },
        "outputId": "025d8e7d-bab2-4d43-8821-5df8685e69d1"
      },
      "source": [
        "model_names = [\"Sigmoid\", \"tanh\", \"ReLU\", \n",
        "               \"Leaky ReLU\", \"PReLU\"\n",
        "              ]\n",
        "\n",
        "for j in range(len(test_images)):\n",
        "\n",
        "  # Plot the true image.\n",
        "  plt.figure()\n",
        "  plt.subplot(1,6,1)\n",
        "  plt.imshow(test_images[j][0].reshape((28,28)), cmap=\"Greys\")\n",
        "  plt.xticks([],[])\n",
        "  plt.yticks([],[])\n",
        "  plt.title(\"Original image\", fontsize=10)\n",
        "\n",
        "  for a in range(len(model_names)):\n",
        "    # Generate explanation with respect to each of 10 output channels.\n",
        "    exs = analysis[a,j,:,:,:,:]\n",
        "\n",
        "    # Plot them\n",
        "    th = max(np.abs(np.min(exs)), np.abs(np.max(exs)))\n",
        "    plt.subplot(1,6,a+2)\n",
        "    plt.imshow(exs[np.argmax(test_images[j][1])].reshape((28,28)), cmap=\"seismic\", vmin=-1*th, vmax=th)\n",
        "    plt.xticks([],[])\n",
        "    plt.yticks([],[])\n",
        "    plt.title(model_names[a], fontsize=10)\n",
        "  plt.tight_layout()\n",
        "  #plt.savefig(\"../notebooks/figures/\"+str(index)+\".png\")\n",
        "  plt.show()"
      ],
      "execution_count": 94,
      "outputs": [
        {
          "output_type": "display_data",
          "data": {
            "image/png": "[encoded data removed]",
            "text/plain": [
              "<Figure size 432x288 with 6 Axes>"
            ]
          },
          "metadata": {
            "tags": []
          }
        },
        {
          "output_type": "display_data",
          "data": {
            "image/png": "[encoded data removed]",
            "text/plain": [
              "<Figure size 432x288 with 6 Axes>"
            ]
          },
          "metadata": {
            "tags": []
          }
        },
        {
          "output_type": "display_data",
          "data": {
            "image/png": "[encoded data removed]",
            "text/plain": [
              "<Figure size 432x288 with 6 Axes>"
            ]
          },
          "metadata": {
            "tags": []
          }
        },
        {
          "output_type": "display_data",
          "data": {
            "image/png": "[encoded data removed]",
            "text/plain": [
              "<Figure size 432x288 with 6 Axes>"
            ]
          },
          "metadata": {
            "tags": []
          }
        },
        {
          "output_type": "display_data",
          "data": {
            "image/png": "[encoded data removed]",
            "text/plain": [
              "<Figure size 432x288 with 6 Axes>"
            ]
          },
          "metadata": {
            "tags": []
          }
        },
        {
          "output_type": "display_data",
          "data": {
            "image/png": "[encoded data removed]",
            "text/plain": [
              "<Figure size 432x288 with 6 Axes>"
            ]
          },
          "metadata": {
            "tags": []
          }
        },
        {
          "output_type": "display_data",
          "data": {
            "image/png": "[encoded data removed]",
            "text/plain": [
              "<Figure size 432x288 with 6 Axes>"
            ]
          },
          "metadata": {
            "tags": []
          }
        },
        {
          "output_type": "display_data",
          "data": {
            "image/png": "[encoded data removed]",
            "text/plain": [
              "<Figure size 432x288 with 6 Axes>"
            ]
          },
          "metadata": {
            "tags": []
          }
        },
        {
          "output_type": "display_data",
          "data": {
            "image/png": "[encoded data removed]",
            "text/plain": [
              "<Figure size 432x288 with 6 Axes>"
            ]
          },
          "metadata": {
            "tags": []
          }
        },
        {
          "output_type": "display_data",
          "data": {
            "image/png": "[encoded data removed]",
            "text/plain": [
              "<Figure size 432x288 with 6 Axes>"
            ]
          },
          "metadata": {
            "tags": []
          }
        }
      ]
    }
  ]
}