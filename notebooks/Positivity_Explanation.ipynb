{
  "nbformat": 4,
  "nbformat_minor": 0,
  "metadata": {
    "colab": {
      "name": "Positivity_Explanation.ipynb",
      "version": "0.3.2",
      "provenance": [],
      "collapsed_sections": [],
      "include_colab_link": true
    },
    "kernelspec": {
      "name": "python3",
      "display_name": "Python 3"
    },
    "accelerator": "GPU"
  },
  "cells": [
    {
      "cell_type": "markdown",
      "metadata": {
        "id": "view-in-github",
        "colab_type": "text"
      },
      "source": [
        "<a href=\"https://colab.research.google.com/github/infomon/understanding_cnn/blob/master/notebooks/Positivity_Explanation.ipynb\" target=\"_parent\"><img src=\"https://colab.research.google.com/assets/colab-badge.svg\" alt=\"Open In Colab\"/></a>"
      ]
    },
    {
      "metadata": {
        "id": "-4KpOs2qbVg3",
        "colab_type": "text"
      },
      "cell_type": "markdown",
      "source": [
        "# Tests Positivity of visualizing methods"
      ]
    },
    {
      "metadata": {
        "id": "MjMriS6hbVg5",
        "colab_type": "text"
      },
      "cell_type": "markdown",
      "source": [
        "This notebook shows histograms being computed by carious methods on the MNIST dataset. We will first train a simple 5-layer CNN and then apply different visualizing methods. In the end we allow for a quantitative assesment by generating histograms. If positivity holds, there should be no negative relevance.\n",
        "\n",
        "For testing the positivity axiom, we visualize relevances for an single example, where we select the last layer's neuron with the smallest value.\n"
      ]
    },
    {
      "metadata": {
        "id": "PH-zj4hybVg6",
        "colab_type": "text"
      },
      "cell_type": "markdown",
      "source": [
        "## Imports"
      ]
    },
    {
      "metadata": {
        "id": "t85804oLbzxc",
        "colab_type": "code",
        "outputId": "6f8751b8-8d3e-4c8c-f148-1f3c4df4ef19",
        "colab": {
          "base_uri": "https://localhost:8080/",
          "height": 124
        }
      },
      "cell_type": "code",
      "source": [
        "!pip install -q git+https://github.com/albermax/innvestigate\n",
        "!git clone https://github.com/infomon/understanding_cnn\n",
        "import shutil\n",
        "import os\n",
        "if not os.path.isfile(\"utils.py\"):\n",
        "  shutil.move(\"/content/understanding_cnn/utils/utils.py\", \"/content\")\n",
        "if not os.path.isfile(\"utils_mnist.py\"):\n",
        "  shutil.move(\"/content/understanding_cnn/utils/utils_mnist.py\", \"/content\")\n",
        "if not os.path.isfile(\"cnn_MNIST_model.hdf5\"):\n",
        "  shutil.move(\"/content/understanding_cnn/models/pretrained_models/cnn_MNIST_model.hdf5\", \"/content\")\n",
        "!rm -r understanding_cnn"
      ],
      "execution_count": 1,
      "outputs": [
        {
          "output_type": "stream",
          "text": [
            "  Building wheel for innvestigate (setup.py) ... \u001b[?25ldone\n",
            "\u001b[?25hCloning into 'understanding_cnn'...\n",
            "remote: Enumerating objects: 221, done.\u001b[K\n",
            "remote: Total 221 (delta 0), reused 0 (delta 0), pack-reused 221\u001b[K\n",
            "Receiving objects: 100% (221/221), 27.77 MiB | 17.86 MiB/s, done.\n",
            "Resolving deltas: 100% (103/103), done.\n"
          ],
          "name": "stdout"
        }
      ]
    },
    {
      "metadata": {
        "id": "9zWHw3atbVg8",
        "colab_type": "code",
        "colab": {}
      },
      "cell_type": "code",
      "source": [
        "%load_ext autoreload\n",
        "%autoreload 2\n",
        "\n",
        "import warnings\n",
        "warnings.simplefilter('ignore')"
      ],
      "execution_count": 0,
      "outputs": []
    },
    {
      "metadata": {
        "id": "HTBgA20ibVhB",
        "colab_type": "code",
        "colab": {
          "base_uri": "https://localhost:8080/",
          "height": 35
        },
        "outputId": "21fd571f-0106-4c36-df8f-6bcb4495aee1"
      },
      "cell_type": "code",
      "source": [
        "%matplotlib inline  \n",
        "\n",
        "import imp\n",
        "import numpy as np\n",
        "import os\n",
        "\n",
        "import keras\n",
        "import keras.backend\n",
        "import keras.models\n",
        "from keras.models import load_model\n",
        "from keras.models import Sequential\n",
        "from keras.layers import Dense, Dropout, Flatten\n",
        "from keras.layers import Conv2D, MaxPooling2D\n",
        "from keras.callbacks import ModelCheckpoint\n",
        "\n",
        "import innvestigate\n",
        "import innvestigate.utils as iutils\n",
        "\n",
        "# Use utility libraries to focus on relevant iNNvestigate routines.\n",
        "eutils = imp.load_source(\"utils\", \"utils.py\")\n",
        "mnistutils = imp.load_source(\"utils_mnist\", \"utils_mnist.py\")"
      ],
      "execution_count": 3,
      "outputs": [
        {
          "output_type": "stream",
          "text": [
            "Using TensorFlow backend.\n"
          ],
          "name": "stderr"
        }
      ]
    },
    {
      "metadata": {
        "id": "yJ083P93bVhI",
        "colab_type": "text"
      },
      "cell_type": "markdown",
      "source": [
        "## Data\n",
        "Load the dataset and keep some images from the test set for the analysis."
      ]
    },
    {
      "metadata": {
        "id": "Gh2h7wDYbVhJ",
        "colab_type": "code",
        "colab": {
          "base_uri": "https://localhost:8080/",
          "height": 52
        },
        "outputId": "71caad55-a5bc-4618-e4b2-598c100288d2"
      },
      "cell_type": "code",
      "source": [
        "# Load data\n",
        "# returns x_train, y_train, x_test, y_test as numpy.ndarray\n",
        "data_not_preprocessed = mnistutils.fetch_data()\n",
        "\n",
        "# Create preprocessing functions\n",
        "input_range = [-1, 1]\n",
        "preprocess, revert_preprocessing = mnistutils.create_preprocessing_f(data_not_preprocessed[0], input_range)\n",
        "\n",
        "# Preprocess data\n",
        "data = (\n",
        "    preprocess(data_not_preprocessed[0]), data_not_preprocessed[1],\n",
        "    preprocess(data_not_preprocessed[2]), data_not_preprocessed[3]\n",
        ")\n",
        "\n",
        "num_classes = len(np.unique(data[1]))\n",
        "label_to_class_name = [str(i) for i in range(num_classes)]\n",
        "\n",
        "x_train, y_train, x_test, y_test = data\n",
        "# convert class vectors to binary class matrices\n",
        "y_train = keras.utils.to_categorical(y_train, num_classes)\n",
        "y_test = keras.utils.to_categorical(y_test, num_classes)"
      ],
      "execution_count": 4,
      "outputs": [
        {
          "output_type": "stream",
          "text": [
            "Downloading data from https://s3.amazonaws.com/img-datasets/mnist.npz\n",
            "11493376/11490434 [==============================] - 3s 0us/step\n"
          ],
          "name": "stdout"
        }
      ]
    },
    {
      "metadata": {
        "id": "8hmNWteCbVhO",
        "colab_type": "text"
      },
      "cell_type": "markdown",
      "source": [
        "## Model\n",
        "The next part trains and evaluates a CNN. Or if model is available, then use the pretrained model"
      ]
    },
    {
      "metadata": {
        "id": "R_LacTJlbVhP",
        "colab_type": "code",
        "colab": {
          "base_uri": "https://localhost:8080/",
          "height": 588
        },
        "outputId": "4a76aae4-11ef-4f37-9783-48c606a28ead"
      },
      "cell_type": "code",
      "source": [
        "if not os.path.isfile(\"cnn_MNIST_model.hdf5\"):\n",
        "  batch_size = 128\n",
        "  epochs = 15\n",
        "  input_shape = (28, 28, 1)\n",
        "\n",
        "  model = Sequential()\n",
        "  model.add(Conv2D(32, kernel_size=(3, 3),\n",
        "                  activation='relu',\n",
        "                   input_shape=input_shape))\n",
        "  model.add(Conv2D(64, (3, 3), activation='relu'))\n",
        "  model.add(MaxPooling2D(pool_size=(2, 2)))\n",
        "  model.add(Dropout(0.25))\n",
        "  model.add(Flatten())\n",
        "  model.add(Dense(128, activation='exponential'))\n",
        "  model.add(Dropout(0.5))\n",
        "  model.add(Dense(num_classes, activation='softmax'))\n",
        "\n",
        "  model.compile(loss=keras.losses.categorical_crossentropy,\n",
        "                optimizer='adam',\n",
        "                metrics=['accuracy'])\n",
        "\n",
        "  mcp_save = ModelCheckpoint('cnn_MNIST_model.hdf5', save_best_only=True, monitor='val_acc', mode='max')\n",
        "\n",
        "  model.fit(x_train, y_train,\n",
        "            batch_size=batch_size,\n",
        "            epochs=epochs,\n",
        "            verbose=1,\n",
        "            callbacks=[mcp_save],\n",
        "            validation_data=(x_test, y_test))\n",
        "\n",
        "else:\n",
        "  model = load_model('cnn_MNIST_model.hdf5')"
      ],
      "execution_count": 16,
      "outputs": [
        {
          "output_type": "stream",
          "text": [
            "Train on 60000 samples, validate on 10000 samples\n",
            "Epoch 1/15\n",
            "60000/60000 [==============================] - 10s 165us/step - loss: 0.2811 - acc: 0.9131 - val_loss: 0.0548 - val_acc: 0.9826\n",
            "Epoch 2/15\n",
            "60000/60000 [==============================] - 9s 142us/step - loss: 0.0924 - acc: 0.9727 - val_loss: 0.0411 - val_acc: 0.9863\n",
            "Epoch 3/15\n",
            "60000/60000 [==============================] - 9s 143us/step - loss: 0.0662 - acc: 0.9801 - val_loss: 0.0346 - val_acc: 0.9883\n",
            "Epoch 4/15\n",
            "60000/60000 [==============================] - 8s 141us/step - loss: 0.0564 - acc: 0.9827 - val_loss: 0.0328 - val_acc: 0.9902\n",
            "Epoch 5/15\n",
            "60000/60000 [==============================] - 8s 140us/step - loss: 0.0514 - acc: 0.9844 - val_loss: 0.0275 - val_acc: 0.9908\n",
            "Epoch 6/15\n",
            "60000/60000 [==============================] - 9s 147us/step - loss: 0.0429 - acc: 0.9866 - val_loss: 0.0286 - val_acc: 0.9911\n",
            "Epoch 7/15\n",
            "60000/60000 [==============================] - 8s 141us/step - loss: 0.0386 - acc: 0.9875 - val_loss: 0.0277 - val_acc: 0.9923\n",
            "Epoch 8/15\n",
            "60000/60000 [==============================] - 8s 139us/step - loss: 0.0331 - acc: 0.9895 - val_loss: 0.0300 - val_acc: 0.9904\n",
            "Epoch 9/15\n",
            "60000/60000 [==============================] - 8s 141us/step - loss: 0.0293 - acc: 0.9908 - val_loss: 0.0254 - val_acc: 0.9928\n",
            "Epoch 10/15\n",
            "60000/60000 [==============================] - 8s 139us/step - loss: 0.0297 - acc: 0.9907 - val_loss: 0.0292 - val_acc: 0.9915\n",
            "Epoch 11/15\n",
            "60000/60000 [==============================] - 8s 140us/step - loss: 0.0246 - acc: 0.9919 - val_loss: 0.0289 - val_acc: 0.9928\n",
            "Epoch 12/15\n",
            "60000/60000 [==============================] - 8s 139us/step - loss: 0.0261 - acc: 0.9919 - val_loss: 0.0282 - val_acc: 0.9907\n",
            "Epoch 13/15\n",
            "60000/60000 [==============================] - 8s 141us/step - loss: 0.0234 - acc: 0.9931 - val_loss: 0.0295 - val_acc: 0.9924\n",
            "Epoch 14/15\n",
            "60000/60000 [==============================] - 9s 143us/step - loss: 0.0204 - acc: 0.9937 - val_loss: 0.0360 - val_acc: 0.9917\n",
            "Epoch 15/15\n",
            "60000/60000 [==============================] - 8s 140us/step - loss: 0.0202 - acc: 0.9936 - val_loss: 0.0261 - val_acc: 0.9934\n"
          ],
          "name": "stdout"
        }
      ]
    },
    {
      "metadata": {
        "id": "QrIKvRmCbVhX",
        "colab_type": "text"
      },
      "cell_type": "markdown",
      "source": [
        "## Analysis"
      ]
    },
    {
      "metadata": {
        "id": "WJ10F98LbVha",
        "colab_type": "code",
        "colab": {}
      },
      "cell_type": "code",
      "source": [
        "# Scale to [0, 1] range for plotting.\n",
        "def input_postprocessing(X):\n",
        "    return revert_preprocessing(X) / 255\n",
        "\n",
        "noise_scale = (input_range[1]-input_range[0]) * 0.1\n",
        "ri = input_range[0]  # reference input\n",
        "\n",
        "\n",
        "# Configure analysis methods and properties\n",
        "# Configure analysis methods and properties\n",
        "methods = [\n",
        "    # NAME                    OPT.PARAMS                POSTPROC FXN               TITLE\n",
        "    \n",
        "    # Show input\n",
        "    (\"input\",                 {},                       input_postprocessing,      \"Input\"),\n",
        "\n",
        "    # Function\n",
        "    (\"gradient\", {\"postprocess\": \"abs\"}, mnistutils.graymap, \"Gradient\"),  # 0\n",
        "    (\"smoothgrad\", {\"noise_scale\": noise_scale,\n",
        "                    \"postprocess\": \"square\"}, mnistutils.graymap, \"SmoothGrad\"),  # 1\n",
        "\n",
        "    # Signal\n",
        "    (\"deconvnet\", {}, mnistutils.bk_proj, \"Deconvnet\"),  # 2\n",
        "    (\"guided_backprop\", {}, mnistutils.bk_proj, \"Guided Backprop\",),  # 3\n",
        "    (\"pattern.net\", {\"pattern_type\": \"relu\"}, mnistutils.bk_proj, \"PatternNet\"),  # 4\n",
        "\n",
        "    # Interaction\n",
        "    (\"pattern.attribution\", {\"pattern_type\": \"relu\"}, mnistutils.heatmap, \"PatternAttribution\"),  # 5\n",
        "    (\"deep_taylor.bounded\", {\"low\": input_range[0],\n",
        "                                 \"high\": input_range[1]}, mnistutils.heatmap, \"DeepTaylor\"),  # 6\n",
        "    (\"input_t_gradient\", {}, mnistutils.heatmap, \"Input * Gradient\"),  # 7\n",
        "    (\"integrated_gradients\", {\"reference_inputs\": ri}, mnistutils.heatmap, \"Integrated Gradients\"),  # 8\n",
        "    (\"lrp.z\", {}, mnistutils.heatmap, \"LRP-Z\"),  # 9\n",
        "    (\"lrp.epsilon\", {\"epsilon\": 1}, mnistutils.heatmap, \"LRP-Epsilon\"),  # 10\n",
        "    (\"lrp.epsilon_IB\", {\"epsilon\": 1}, mnistutils.heatmap, \"LRP-Epsilon\"),  # 11\n",
        "    (\"lrp.alpha_1_beta_0\", {}, mnistutils.heatmap, \"LRP-Alpha1-Beta0\"),  # 12\n",
        "    (\"lrp.alpha_1_beta_0_IB\", {}, mnistutils.heatmap, \"LRP-Alpha1-Beta0 IB\"),  # 13\n",
        "    (\"lrp.alpha_2_beta_1\", {}, mnistutils.heatmap, \"LRP-Alpha2-Beta1\"),  # 14\n",
        "    (\"lrp.alpha_2_beta_1_IB\", {}, mnistutils.heatmap, \"LRP-Alpha2-Beta1 IB\"),  # 15\n",
        "    ]"
      ],
      "execution_count": 0,
      "outputs": []
    },
    {
      "metadata": {
        "id": "eA2Xb4OobVhf",
        "colab_type": "code",
        "outputId": "9b26ed48-ebd8-4205-8806-ba2008b208a1",
        "colab": {
          "base_uri": "https://localhost:8080/",
          "height": 108
        }
      },
      "cell_type": "code",
      "source": [
        "# Create model without trailing softmax\n",
        "model_wo_softmax = iutils.keras.graph.model_wo_softmax(model)\n",
        "\n",
        "# Create analyzers.\n",
        "analyzers = []\n",
        "for method in methods:\n",
        "    analyzer = innvestigate.create_analyzer(method[0],        # analysis method identifier\n",
        "                                            model_wo_softmax, # model without softmax output\n",
        "                                            neuron_selection_mode=\"index\",\n",
        "                                            **method[1])      # optional analysis parameters\n",
        "\n",
        "    # Some analyzers require training.\n",
        "    analyzer.fit(data[0], batch_size=256, verbose=1)\n",
        "    analyzers.append(analyzer)"
      ],
      "execution_count": 18,
      "outputs": [
        {
          "output_type": "stream",
          "text": [
            "Epoch 1/1\n",
            "235/235 [==============================] - 12s 51ms/step - loss: 4.0000 - broadcast_9_loss: 1.0000 - broadcast_10_loss: 1.0000 - broadcast_11_loss: 1.0000 - broadcast_12_loss: 1.0000\n",
            "Epoch 1/1\n",
            "235/235 [==============================] - 12s 50ms/step - loss: 4.0000 - broadcast_13_loss: 1.0000 - broadcast_14_loss: 1.0000 - broadcast_15_loss: 1.0000 - broadcast_16_loss: 1.0000\n"
          ],
          "name": "stdout"
        }
      ]
    },
    {
      "metadata": {
        "id": "kbLUoyi5bVhq",
        "colab_type": "code",
        "colab": {}
      },
      "cell_type": "code",
      "source": [
        "%%capture\n",
        "\n",
        "n = 1\n",
        "test_images = list(zip(data[2][:n], data[3][:n]))\n",
        "\n",
        "analysis = np.zeros([len(test_images), len(analyzers), 28, 28, 3])\n",
        "text = []\n",
        "\n",
        "\n",
        "for i, (x, y) in enumerate(test_images):\n",
        "    # Add batch axis.\n",
        "    x = x[None, :, :, :]\n",
        "    \n",
        "    # Predict final activations, probabilites, and label.\n",
        "    presm = model_wo_softmax.predict_on_batch(x)[0]\n",
        "    prob = model.predict_on_batch(x)[0]\n",
        "    y_hat = prob.argmax()\n",
        "    y_min = prob.argmin()\n",
        "    \n",
        "    # Save prediction info:\n",
        "    text.append((\"%s\" % label_to_class_name[y],    # ground truth label\n",
        "                 \"%.2f\" % presm.max(),             # pre-softmax logits\n",
        "                 \"%.2f\" % prob.max(),              # probabilistic softmax output  \n",
        "                 \"%s\" % label_to_class_name[y_hat] # predicted label\n",
        "                ))\n",
        "\n",
        "    for aidx, analyzer in enumerate(analyzers):\n",
        "        # Analyze.\n",
        "        a = analyzer.analyze(x, neuron_selection=y_min)\n",
        "        \n",
        "        # Apply common postprocessing, e.g., re-ordering the channels for plotting.\n",
        "        a = mnistutils.postprocess(a)\n",
        "        # Apply analysis postprocessing, e.g., creating a heatmap.\n",
        "        #a = methods[aidx][2](a)\n",
        "        # Store the analysis.\n",
        "        analysis[i, aidx] = a[0]"
      ],
      "execution_count": 0,
      "outputs": []
    },
    {
      "metadata": {
        "id": "Dw4c_BgDAMuU",
        "colab_type": "code",
        "colab": {
          "base_uri": "https://localhost:8080/",
          "height": 35
        },
        "outputId": "966764c0-c8f6-460f-8efb-bf9fd4b1b83d"
      },
      "cell_type": "code",
      "source": [
        "np.amin(prob)"
      ],
      "execution_count": 20,
      "outputs": [
        {
          "output_type": "execute_result",
          "data": {
            "text/plain": [
              "5.033596e-30"
            ]
          },
          "metadata": {
            "tags": []
          },
          "execution_count": 20
        }
      ]
    },
    {
      "metadata": {
        "id": "HNokpUm-bVhu",
        "colab_type": "text"
      },
      "cell_type": "markdown",
      "source": [
        "## Visualize histograms"
      ]
    },
    {
      "metadata": {
        "id": "vA62VGrNpFUk",
        "colab_type": "code",
        "outputId": "76a87e59-cfff-4fa8-9a68-1883a89a9f29",
        "colab": {
          "base_uri": "https://localhost:8080/",
          "height": 35
        }
      },
      "cell_type": "code",
      "source": [
        "import matplotlib.pyplot as plt\n",
        "tmp = analysis[0,5]\n",
        "tmp.shape\n",
        "\n",
        "x_min = np.amin(tmp)\n",
        "x_min = np.floor(x_min)\n",
        "x_max = np.amax(tmp)\n",
        "x_max = np.ceil(x_max)\n",
        "print(x_min,x_max)"
      ],
      "execution_count": 21,
      "outputs": [
        {
          "output_type": "stream",
          "text": [
            "-422.0 871.0\n"
          ],
          "name": "stdout"
        }
      ]
    },
    {
      "metadata": {
        "id": "5BL29gfun14q",
        "colab_type": "code",
        "outputId": "3c49ff34-351a-40db-ae86-5f6a1e93b906",
        "colab": {
          "base_uri": "https://localhost:8080/",
          "height": 944
        }
      },
      "cell_type": "code",
      "source": [
        "import matplotlib.pyplot as plt\n",
        "from matplotlib.offsetbox import AnchoredText\n",
        "\n",
        "fig=plt.figure()\n",
        "fig.subplots_adjust(0.0,0.0,2.0,3.0)\n",
        "axs = []\n",
        "for i,heatmap in enumerate(analysis[0]):\n",
        "  if i == 0:\n",
        "    ax = fig.add_subplot(4,5,1)\n",
        "    ax.imshow(heatmap)\n",
        "    ax.set_title(methods[i][3])\n",
        "    ax.xaxis.set_visible(False)\n",
        "    ax.yaxis.set_visible(False)\n",
        "    continue\n",
        "    \n",
        "  axs.append(fig.add_subplot(4,5,i+1))\n",
        "  x_min = np.amin(heatmap)\n",
        "  x_min = np.floor(x_min)\n",
        "  x_max = np.amax(heatmap)\n",
        "  x_max = np.ceil(x_max)\n",
        "  if x_min == x_max:\n",
        "    bins = np.arange(x_min-0.2, x_max+0.2,0.01)\n",
        "  else:\n",
        "    bins = np.arange(x_min, x_max, (x_max-x_min)/20)\n",
        "  n, bins, patches = axs[i-1].hist(np.reshape(heatmap * (heatmap < 0),(28*28*3)), bins=bins,color ='blue', edgecolor = 'black')\n",
        "  n, bins, patches = axs[i-1].hist(np.reshape(heatmap * (heatmap >= 0),(28*28*3)), bins=bins,color ='red', edgecolor = 'black')\n",
        "  \n",
        "\n",
        "  #for j,patch in enumerate(patches):\n",
        "  #  if bins[j] < 0:\n",
        "  #    axs[i-1].set_facecolor('blue')\n",
        "  axs[i-1].set_title(methods[i][3])\n",
        "  axs[i-1].yaxis.set_visible(False)\n",
        "  \n",
        "  min_sum = np.sum(heatmap * (heatmap < 0))\n",
        "  #axs[i-1].text(x=1,y=10,s='Sum of negative values: '+str(round(min_sum)),fontsize=12)\n",
        "  anchored_text = AnchoredText('Sum of negative\\n values: '+str(round(min_sum)), loc='upper right')\n",
        "  axs[i-1].add_artist(anchored_text)\n",
        "  \n",
        "fig.show()"
      ],
      "execution_count": 22,
      "outputs": [
        {
          "output_type": "stream",
          "text": [
            "Clipping input data to the valid range for imshow with RGB data ([0..1] for floats or [0..255] for integers).\n"
          ],
          "name": "stderr"
        },
        {
          "output_type": "display_data",
          "data": {
            "image/png": "[encoded data removed]",
            "text/plain": [
              "<Figure size 432x288 with 17 Axes>"
            ]
          },
          "metadata": {
            "tags": []
          }
        }
      ]
    }
  ]
}