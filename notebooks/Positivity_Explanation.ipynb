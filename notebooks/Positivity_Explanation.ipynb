{
  "nbformat": 4,
  "nbformat_minor": 0,
  "metadata": {
    "colab": {
      "name": "Positivity_Explanation.ipynb",
      "version": "0.3.2",
      "provenance": [],
      "collapsed_sections": [],
      "include_colab_link": true
    },
    "kernelspec": {
      "name": "python3",
      "display_name": "Python 3"
    },
    "accelerator": "GPU"
  },
  "cells": [
    {
      "cell_type": "markdown",
      "metadata": {
        "id": "view-in-github",
        "colab_type": "text"
      },
      "source": [
        "<a href=\"https://colab.research.google.com/github/infomon/understanding_cnn/blob/master/notebooks/Positivity_Explanation.ipynb\" target=\"_parent\"><img src=\"https://colab.research.google.com/assets/colab-badge.svg\" alt=\"Open In Colab\"/></a>"
      ]
    },
    {
      "metadata": {
        "id": "-4KpOs2qbVg3",
        "colab_type": "text"
      },
      "cell_type": "markdown",
      "source": [
        "# Tests Positivity of visualizing methods"
      ]
    },
    {
      "metadata": {
        "id": "MjMriS6hbVg5",
        "colab_type": "text"
      },
      "cell_type": "markdown",
      "source": [
        "This notebook shows histograms being computed by carious methods on the MNIST dataset. We will first train a simple 5-layer CNN and then apply different visualizing methods. In the end we allow for a quantitative assesment by generating histograms. If positivity holds, there should be no negative relevance.\n",
        "\n",
        "For testing the positivity axiom, we visualize relevances for an single example, where we select the last layer's neuron with the smallest value.\n"
      ]
    },
    {
      "metadata": {
        "id": "PH-zj4hybVg6",
        "colab_type": "text"
      },
      "cell_type": "markdown",
      "source": [
        "## Imports"
      ]
    },
    {
      "metadata": {
        "id": "t85804oLbzxc",
        "colab_type": "code",
        "outputId": "fbe2a5ca-13ee-4927-d02e-747fe0a67ec6",
        "colab": {
          "base_uri": "https://localhost:8080/",
          "height": 159
        }
      },
      "cell_type": "code",
      "source": [
        "!pip install -q git+https://github.com/albermax/innvestigate\n",
        "!git clone https://github.com/infomon/understanding_cnn\n",
        "import shutil\n",
        "import os\n",
        "if not os.path.isfile(\"utils.py\"):\n",
        "  shutil.move(\"/content/understanding_cnn/utils/utils.py\", \"/content\")\n",
        "if not os.path.isfile(\"utils_mnist.py\"):\n",
        "  shutil.move(\"/content/understanding_cnn/utils/utils_mnist.py\", \"/content\")\n",
        "if not os.path.isfile(\"cnn_MNIST_model.hdf5\"):\n",
        "  shutil.move(\"/content/understanding_cnn/models/pretrained_models/cnn_MNIST_model.hdf5\", \"/content\")\n",
        "!rm -r understanding_cnn"
      ],
      "execution_count": 41,
      "outputs": [
        {
          "output_type": "stream",
          "text": [
            "  Building wheel for innvestigate (setup.py) ... \u001b[?25ldone\n",
            "\u001b[?25hCloning into 'understanding_cnn'...\n",
            "remote: Enumerating objects: 213, done.\u001b[K\n",
            "remote: Counting objects: 100% (213/213), done.\u001b[K\n",
            "remote: Compressing objects: 100% (185/185), done.\u001b[K\n",
            "remote: Total 213 (delta 98), reused 93 (delta 21), pack-reused 0\u001b[K\n",
            "Receiving objects: 100% (213/213), 28.04 MiB | 21.30 MiB/s, done.\n",
            "Resolving deltas: 100% (98/98), done.\n"
          ],
          "name": "stdout"
        }
      ]
    },
    {
      "metadata": {
        "id": "9zWHw3atbVg8",
        "colab_type": "code",
        "colab": {
          "base_uri": "https://localhost:8080/",
          "height": 52
        },
        "outputId": "a8cf0de0-5aad-46e7-f707-6891ccb9398f"
      },
      "cell_type": "code",
      "source": [
        "%load_ext autoreload\n",
        "%autoreload 2\n",
        "\n",
        "import warnings\n",
        "warnings.simplefilter('ignore')"
      ],
      "execution_count": 42,
      "outputs": [
        {
          "output_type": "stream",
          "text": [
            "The autoreload extension is already loaded. To reload it, use:\n",
            "  %reload_ext autoreload\n"
          ],
          "name": "stdout"
        }
      ]
    },
    {
      "metadata": {
        "id": "HTBgA20ibVhB",
        "colab_type": "code",
        "colab": {}
      },
      "cell_type": "code",
      "source": [
        "%matplotlib inline  \n",
        "\n",
        "import imp\n",
        "import numpy as np\n",
        "import os\n",
        "\n",
        "import keras\n",
        "import keras.backend\n",
        "import keras.models\n",
        "from keras.models import load_model\n",
        "from keras.models import Sequential\n",
        "from keras.layers import Dense, Dropout, Flatten\n",
        "from keras.layers import Conv2D, MaxPooling2D\n",
        "from keras.callbacks import ModelCheckpoint\n",
        "\n",
        "import innvestigate\n",
        "import innvestigate.utils as iutils\n",
        "\n",
        "# Use utility libraries to focus on relevant iNNvestigate routines.\n",
        "eutils = imp.load_source(\"utils\", \"utils.py\")\n",
        "mnistutils = imp.load_source(\"utils_mnist\", \"utils_mnist.py\")"
      ],
      "execution_count": 0,
      "outputs": []
    },
    {
      "metadata": {
        "id": "yJ083P93bVhI",
        "colab_type": "text"
      },
      "cell_type": "markdown",
      "source": [
        "## Data\n",
        "Load the dataset and keep some images from the test set for the analysis."
      ]
    },
    {
      "metadata": {
        "id": "Gh2h7wDYbVhJ",
        "colab_type": "code",
        "colab": {}
      },
      "cell_type": "code",
      "source": [
        "# Load data\n",
        "# returns x_train, y_train, x_test, y_test as numpy.ndarray\n",
        "data_not_preprocessed = mnistutils.fetch_data()\n",
        "\n",
        "# Create preprocessing functions\n",
        "input_range = [-1, 1]\n",
        "preprocess, revert_preprocessing = mnistutils.create_preprocessing_f(data_not_preprocessed[0], input_range)\n",
        "\n",
        "# Preprocess data\n",
        "data = (\n",
        "    preprocess(data_not_preprocessed[0]), data_not_preprocessed[1],\n",
        "    preprocess(data_not_preprocessed[2]), data_not_preprocessed[3]\n",
        ")\n",
        "\n",
        "num_classes = len(np.unique(data[1]))\n",
        "label_to_class_name = [str(i) for i in range(num_classes)]\n",
        "\n",
        "x_train, y_train, x_test, y_test = data\n",
        "# convert class vectors to binary class matrices\n",
        "y_train = keras.utils.to_categorical(y_train, num_classes)\n",
        "y_test = keras.utils.to_categorical(y_test, num_classes)"
      ],
      "execution_count": 0,
      "outputs": []
    },
    {
      "metadata": {
        "id": "8hmNWteCbVhO",
        "colab_type": "text"
      },
      "cell_type": "markdown",
      "source": [
        "## Model\n",
        "The next part trains and evaluates a CNN. Or if model is available, then use the pretrained model"
      ]
    },
    {
      "metadata": {
        "id": "R_LacTJlbVhP",
        "colab_type": "code",
        "colab": {}
      },
      "cell_type": "code",
      "source": [
        "if not os.path.isfile(\"cnn_MNIST_model.hdf5\"):\n",
        "  batch_size = 128\n",
        "  epochs = 15\n",
        "  input_shape = (28, 28, 1)\n",
        "\n",
        "  model = Sequential()\n",
        "  model.add(Conv2D(32, kernel_size=(3, 3),\n",
        "                  activation='relu',\n",
        "                   input_shape=input_shape))\n",
        "  model.add(Conv2D(64, (3, 3), activation='relu'))\n",
        "  model.add(MaxPooling2D(pool_size=(2, 2)))\n",
        "  model.add(Dropout(0.25))\n",
        "  model.add(Flatten())\n",
        "  model.add(Dense(128, activation='relu'))\n",
        "  model.add(Dropout(0.5))\n",
        "  model.add(Dense(num_classes, activation='softmax'))\n",
        "\n",
        "  model.compile(loss=keras.losses.categorical_crossentropy,\n",
        "                optimizer='adam',\n",
        "                metrics=['accuracy'])\n",
        "\n",
        "  mcp_save = ModelCheckpoint('cnn_MNIST_model.hdf5', save_best_only=True, monitor='val_acc', mode='max')\n",
        "\n",
        "  model.fit(x_train, y_train,\n",
        "            batch_size=batch_size,\n",
        "            epochs=epochs,\n",
        "            verbose=1,\n",
        "            callbacks=[mcp_save],\n",
        "            validation_data=(x_test, y_test))\n",
        "\n",
        "else:\n",
        "  model = load_model('cnn_MNIST_model.hdf5')"
      ],
      "execution_count": 0,
      "outputs": []
    },
    {
      "metadata": {
        "id": "QrIKvRmCbVhX",
        "colab_type": "text"
      },
      "cell_type": "markdown",
      "source": [
        "## Analysis"
      ]
    },
    {
      "metadata": {
        "id": "WJ10F98LbVha",
        "colab_type": "code",
        "colab": {}
      },
      "cell_type": "code",
      "source": [
        "# Scale to [0, 1] range for plotting.\n",
        "def input_postprocessing(X):\n",
        "    return revert_preprocessing(X) / 255\n",
        "\n",
        "noise_scale = (input_range[1]-input_range[0]) * 0.1\n",
        "ri = input_range[0]  # reference input\n",
        "\n",
        "\n",
        "# Configure analysis methods and properties\n",
        "# Configure analysis methods and properties\n",
        "methods = [\n",
        "    # NAME                    OPT.PARAMS                POSTPROC FXN               TITLE\n",
        "    \n",
        "    # Show input\n",
        "    (\"input\",                 {},                       input_postprocessing,      \"Input\"),\n",
        "\n",
        "    # Function\n",
        "    (\"gradient\", {\"postprocess\": \"abs\"}, mnistutils.graymap, \"Gradient\"),  # 0\n",
        "    (\"smoothgrad\", {\"noise_scale\": noise_scale,\n",
        "                    \"postprocess\": \"square\"}, mnistutils.graymap, \"SmoothGrad\"),  # 1\n",
        "\n",
        "    # Signal\n",
        "    (\"deconvnet\", {}, mnistutils.bk_proj, \"Deconvnet\"),  # 2\n",
        "    (\"guided_backprop\", {}, mnistutils.bk_proj, \"Guided Backprop\",),  # 3\n",
        "    (\"pattern.net\", {\"pattern_type\": \"relu\"}, mnistutils.bk_proj, \"PatternNet\"),  # 4\n",
        "\n",
        "    # Interaction\n",
        "    (\"pattern.attribution\", {\"pattern_type\": \"relu\"}, mnistutils.heatmap, \"PatternAttribution\"),  # 5\n",
        "    (\"deep_taylor.bounded\", {\"low\": input_range[0],\n",
        "                                 \"high\": input_range[1]}, mnistutils.heatmap, \"DeepTaylor\"),  # 6\n",
        "    (\"input_t_gradient\", {}, mnistutils.heatmap, \"Input * Gradient\"),  # 7\n",
        "    (\"integrated_gradients\", {\"reference_inputs\": ri}, mnistutils.heatmap, \"Integrated Gradients\"),  # 8\n",
        "    (\"lrp.z\", {}, mnistutils.heatmap, \"LRP-Z\"),  # 9\n",
        "    (\"lrp.epsilon\", {\"epsilon\": 1}, mnistutils.heatmap, \"LRP-Epsilon\"),  # 10\n",
        "    (\"lrp.epsilon_IB\", {\"epsilon\": 1}, mnistutils.heatmap, \"LRP-Epsilon\"),  # 11\n",
        "    (\"lrp.alpha_1_beta_0\", {}, mnistutils.heatmap, \"LRP-Alpha1-Beta0\"),  # 12\n",
        "    (\"lrp.alpha_1_beta_0_IB\", {}, mnistutils.heatmap, \"LRP-Alpha1-Beta0 IB\"),  # 13\n",
        "    (\"lrp.alpha_2_beta_1\", {}, mnistutils.heatmap, \"LRP-Alpha2-Beta1\"),  # 14\n",
        "    (\"lrp.alpha_2_beta_1_IB\", {}, mnistutils.heatmap, \"LRP-Alpha2-Beta1 IB\"),  # 15\n",
        "    ]"
      ],
      "execution_count": 0,
      "outputs": []
    },
    {
      "metadata": {
        "id": "eA2Xb4OobVhf",
        "colab_type": "code",
        "colab": {
          "base_uri": "https://localhost:8080/",
          "height": 108
        },
        "outputId": "b5dfa837-ca09-48cf-f821-c9487b2c5a72"
      },
      "cell_type": "code",
      "source": [
        "# Create model without trailing softmax\n",
        "model_wo_softmax = iutils.keras.graph.model_wo_softmax(model)\n",
        "\n",
        "# Create analyzers.\n",
        "analyzers = []\n",
        "for method in methods:\n",
        "    analyzer = innvestigate.create_analyzer(method[0],        # analysis method identifier\n",
        "                                            model_wo_softmax, # model without softmax output\n",
        "                                            neuron_selection_mode=\"index\",\n",
        "                                            **method[1])      # optional analysis parameters\n",
        "\n",
        "    # Some analyzers require training.\n",
        "    analyzer.fit(data[0], batch_size=256, verbose=1)\n",
        "    analyzers.append(analyzer)"
      ],
      "execution_count": 47,
      "outputs": [
        {
          "output_type": "stream",
          "text": [
            "Epoch 1/1\n",
            "235/235 [==============================] - 13s 55ms/step - loss: 4.0000 - broadcast_17_loss: 1.0000 - broadcast_18_loss: 1.0000 - broadcast_19_loss: 1.0000 - broadcast_20_loss: 1.0000\n",
            "Epoch 1/1\n",
            "235/235 [==============================] - 13s 55ms/step - loss: 4.0000 - broadcast_21_loss: 1.0000 - broadcast_22_loss: 1.0000 - broadcast_23_loss: 1.0000 - broadcast_24_loss: 1.0000\n"
          ],
          "name": "stdout"
        }
      ]
    },
    {
      "metadata": {
        "id": "kbLUoyi5bVhq",
        "colab_type": "code",
        "colab": {}
      },
      "cell_type": "code",
      "source": [
        "%%capture\n",
        "\n",
        "n = 1\n",
        "test_images = list(zip(data[2][:n], data[3][:n]))\n",
        "\n",
        "analysis = np.zeros([len(test_images), len(analyzers), 28, 28, 3])\n",
        "text = []\n",
        "\n",
        "\n",
        "for i, (x, y) in enumerate(test_images):\n",
        "    # Add batch axis.\n",
        "    x = x[None, :, :, :]\n",
        "    \n",
        "    # Predict final activations, probabilites, and label.\n",
        "    presm = model_wo_softmax.predict_on_batch(x)[0]\n",
        "    prob = model.predict_on_batch(x)[0]\n",
        "    y_hat = prob.argmax()\n",
        "    y_min = prob.argmin()\n",
        "    \n",
        "    # Save prediction info:\n",
        "    text.append((\"%s\" % label_to_class_name[y],    # ground truth label\n",
        "                 \"%.2f\" % presm.max(),             # pre-softmax logits\n",
        "                 \"%.2f\" % prob.max(),              # probabilistic softmax output  \n",
        "                 \"%s\" % label_to_class_name[y_hat] # predicted label\n",
        "                ))\n",
        "\n",
        "    for aidx, analyzer in enumerate(analyzers):\n",
        "        # Analyze.\n",
        "        a = analyzer.analyze(x, neuron_selection=y_min)\n",
        "        \n",
        "        # Apply common postprocessing, e.g., re-ordering the channels for plotting.\n",
        "        a = mnistutils.postprocess(a)\n",
        "        # Apply analysis postprocessing, e.g., creating a heatmap.\n",
        "        #a = methods[aidx][2](a)\n",
        "        # Store the analysis.\n",
        "        analysis[i, aidx] = a[0]"
      ],
      "execution_count": 0,
      "outputs": []
    },
    {
      "metadata": {
        "id": "HNokpUm-bVhu",
        "colab_type": "text"
      },
      "cell_type": "markdown",
      "source": [
        "## Visualize histograms"
      ]
    },
    {
      "metadata": {
        "id": "vA62VGrNpFUk",
        "colab_type": "code",
        "colab": {
          "base_uri": "https://localhost:8080/",
          "height": 35
        },
        "outputId": "5ceabd7e-5763-4087-a962-8044523fece5"
      },
      "cell_type": "code",
      "source": [
        "import matplotlib.pyplot as plt\n",
        "tmp = analysis[0,5]\n",
        "tmp.shape\n",
        "\n",
        "x_min = np.amin(tmp)\n",
        "x_min = np.floor(x_min)\n",
        "x_max = np.amax(tmp)\n",
        "x_max = np.ceil(x_max)\n",
        "print(x_min,x_max)"
      ],
      "execution_count": 70,
      "outputs": [
        {
          "output_type": "stream",
          "text": [
            "-373.0 1262.0\n"
          ],
          "name": "stdout"
        }
      ]
    },
    {
      "metadata": {
        "id": "5BL29gfun14q",
        "colab_type": "code",
        "colab": {
          "base_uri": "https://localhost:8080/",
          "height": 944
        },
        "outputId": "f9abab84-f6cd-4d5c-b4b1-5bb19b0c192e"
      },
      "cell_type": "code",
      "source": [
        "import matplotlib.pyplot as plt\n",
        "\n",
        "fig=plt.figure()\n",
        "fig.subplots_adjust(0.0,0.0,2.0,3.0)\n",
        "axs = []\n",
        "for i,heatmap in enumerate(analysis[0]):\n",
        "  if i == 0:\n",
        "    ax = fig.add_subplot(4,5,1)\n",
        "    ax.imshow(heatmap)\n",
        "    ax.set_title(methods[i][3])\n",
        "    ax.xaxis.set_visible(False)\n",
        "    ax.yaxis.set_visible(False)\n",
        "    continue\n",
        "    \n",
        "  axs.append(fig.add_subplot(4,5,i+1))\n",
        "  x_min = np.amin(heatmap)\n",
        "  x_min = np.floor(x_min)\n",
        "  x_max = np.amax(heatmap)\n",
        "  x_max = np.ceil(x_max)\n",
        "  if x_min == x_max:\n",
        "    bins = np.arange(x_min-0.2, x_max+0.2,0.01)\n",
        "  else:\n",
        "    bins = np.arange(x_min, x_max, (x_max-x_min)/10)\n",
        "  n, bins, patches = axs[i-1].hist(np.reshape(heatmap,(28*28*3)), bins=bins,color ='red', edgecolor = 'black')\n",
        "\n",
        "  #for j,patch in enumerate(patches):\n",
        "  #  if bins[j] < 0:\n",
        "  #    axs[i-1].set_facecolor('blue')\n",
        "  axs[i-1].set_title(methods[i][3])\n",
        "  axs[i-1].yaxis.set_visible(False)\n",
        "  \n",
        "  \n",
        "  \n",
        "fig.show()"
      ],
      "execution_count": 71,
      "outputs": [
        {
          "output_type": "stream",
          "text": [
            "Clipping input data to the valid range for imshow with RGB data ([0..1] for floats or [0..255] for integers).\n"
          ],
          "name": "stderr"
        },
        {
          "output_type": "display_data",
          "data": {
            "image/png": "[encoded data removed]",
            "text/plain": [
              "<Figure size 432x288 with 17 Axes>"
            ]
          },
          "metadata": {
            "tags": []
          }
        }
      ]
    }
  ]
}