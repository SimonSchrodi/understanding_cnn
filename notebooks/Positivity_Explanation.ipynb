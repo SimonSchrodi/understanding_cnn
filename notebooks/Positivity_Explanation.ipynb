{
  "nbformat": 4,
  "nbformat_minor": 0,
  "metadata": {
    "colab": {
      "name": "Positivity_Explanation.ipynb",
      "version": "0.3.2",
      "provenance": [],
      "collapsed_sections": [],
      "include_colab_link": true
    },
    "kernelspec": {
      "name": "python3",
      "display_name": "Python 3"
    },
    "accelerator": "GPU"
  },
  "cells": [
    {
      "cell_type": "markdown",
      "metadata": {
        "id": "view-in-github",
        "colab_type": "text"
      },
      "source": [
        "<a href=\"https://colab.research.google.com/github/infomon/understanding_cnn/blob/master/notebooks/Positivity_Explanation.ipynb\" target=\"_parent\"><img src=\"https://colab.research.google.com/assets/colab-badge.svg\" alt=\"Open In Colab\"/></a>"
      ]
    },
    {
      "cell_type": "markdown",
      "metadata": {
        "id": "-4KpOs2qbVg3",
        "colab_type": "text"
      },
      "source": [
        "# Tests Positivity of visualizing methods"
      ]
    },
    {
      "cell_type": "markdown",
      "metadata": {
        "id": "MjMriS6hbVg5",
        "colab_type": "text"
      },
      "source": [
        "This notebook shows histograms being computed by carious methods on the MNIST dataset. We will first train a simple 5-layer CNN and then apply different visualizing methods. In the end we allow for a quantitative assesment by generating histograms. If positivity holds, there should be no negative relevance.\n",
        "\n",
        "For testing the positivity axiom, we visualize relevances for an single example, where we select the last layer's neuron with the smallest value.\n"
      ]
    },
    {
      "cell_type": "markdown",
      "metadata": {
        "id": "PH-zj4hybVg6",
        "colab_type": "text"
      },
      "source": [
        "## Imports"
      ]
    },
    {
      "cell_type": "code",
      "metadata": {
        "id": "t85804oLbzxc",
        "colab_type": "code",
        "outputId": "35415e83-deaf-4021-cf6b-8fd96392e15a",
        "colab": {
          "base_uri": "https://localhost:8080/",
          "height": 159
        }
      },
      "source": [
        "!pip install -q git+https://github.com/albermax/innvestigate\n",
        "!git clone https://github.com/infomon/understanding_cnn\n",
        "import shutil\n",
        "import os\n",
        "if not os.path.isfile(\"utils.py\"):\n",
        "  shutil.move(\"/content/understanding_cnn/utils/utils.py\", \"/content\")\n",
        "if not os.path.isfile(\"utils_mnist.py\"):\n",
        "  shutil.move(\"/content/understanding_cnn/utils/utils_mnist.py\", \"/content\")\n",
        "if not os.path.isfile(\"cnn_MNIST_model.hdf5\"):\n",
        "  shutil.move(\"/content/understanding_cnn/models/pretrained_models/cnn_MNIST_model.hdf5\", \"/content\")\n",
        "!rm -r understanding_cnn"
      ],
      "execution_count": 1,
      "outputs": [
        {
          "output_type": "stream",
          "text": [
            "  Building wheel for innvestigate (setup.py) ... \u001b[?25l\u001b[?25hdone\n",
            "Cloning into 'understanding_cnn'...\n",
            "remote: Enumerating objects: 112, done.\u001b[K\n",
            "remote: Counting objects: 100% (112/112), done.\u001b[K\n",
            "remote: Compressing objects: 100% (107/107), done.\u001b[K\n",
            "remote: Total 333 (delta 51), reused 14 (delta 5), pack-reused 221\u001b[K\n",
            "Receiving objects: 100% (333/333), 40.51 MiB | 38.99 MiB/s, done.\n",
            "Resolving deltas: 100% (154/154), done.\n"
          ],
          "name": "stdout"
        }
      ]
    },
    {
      "cell_type": "code",
      "metadata": {
        "id": "9zWHw3atbVg8",
        "colab_type": "code",
        "colab": {}
      },
      "source": [
        "%load_ext autoreload\n",
        "%autoreload 2\n",
        "\n",
        "import warnings\n",
        "warnings.simplefilter('ignore')"
      ],
      "execution_count": 0,
      "outputs": []
    },
    {
      "cell_type": "code",
      "metadata": {
        "id": "HTBgA20ibVhB",
        "colab_type": "code",
        "outputId": "55a46ed3-7efe-441e-ed57-4ec3a3ef60d9",
        "colab": {
          "base_uri": "https://localhost:8080/",
          "height": 35
        }
      },
      "source": [
        "%matplotlib inline  \n",
        "\n",
        "import imp\n",
        "import numpy as np\n",
        "import os\n",
        "\n",
        "import keras\n",
        "import keras.backend\n",
        "import keras.models\n",
        "from keras.models import load_model\n",
        "from keras.models import Sequential\n",
        "from keras.layers import Dense, Dropout, Flatten\n",
        "from keras.layers import Conv2D, MaxPooling2D\n",
        "from keras.callbacks import ModelCheckpoint\n",
        "\n",
        "import innvestigate\n",
        "import innvestigate.utils as iutils\n",
        "\n",
        "# Use utility libraries to focus on relevant iNNvestigate routines.\n",
        "eutils = imp.load_source(\"utils\", \"utils.py\")\n",
        "mnistutils = imp.load_source(\"utils_mnist\", \"utils_mnist.py\")"
      ],
      "execution_count": 3,
      "outputs": [
        {
          "output_type": "stream",
          "text": [
            "Using TensorFlow backend.\n"
          ],
          "name": "stderr"
        }
      ]
    },
    {
      "cell_type": "markdown",
      "metadata": {
        "id": "yJ083P93bVhI",
        "colab_type": "text"
      },
      "source": [
        "## Data\n",
        "Load the dataset and keep some images from the test set for the analysis."
      ]
    },
    {
      "cell_type": "code",
      "metadata": {
        "id": "Gh2h7wDYbVhJ",
        "colab_type": "code",
        "outputId": "12073d6f-1047-4d6d-dec5-6a8795887808",
        "colab": {
          "base_uri": "https://localhost:8080/",
          "height": 52
        }
      },
      "source": [
        "# Load data\n",
        "# returns x_train, y_train, x_test, y_test as numpy.ndarray\n",
        "data_not_preprocessed = mnistutils.fetch_data()\n",
        "\n",
        "# Create preprocessing functions\n",
        "input_range = [-1, 1]\n",
        "preprocess, revert_preprocessing = mnistutils.create_preprocessing_f(data_not_preprocessed[0], input_range)\n",
        "\n",
        "# Preprocess data\n",
        "data = (\n",
        "    preprocess(data_not_preprocessed[0]), data_not_preprocessed[1],\n",
        "    preprocess(data_not_preprocessed[2]), data_not_preprocessed[3]\n",
        ")\n",
        "\n",
        "num_classes = len(np.unique(data[1]))\n",
        "label_to_class_name = [str(i) for i in range(num_classes)]\n",
        "\n",
        "x_train, y_train, x_test, y_test = data\n",
        "# convert class vectors to binary class matrices\n",
        "y_train = keras.utils.to_categorical(y_train, num_classes)\n",
        "y_test = keras.utils.to_categorical(y_test, num_classes)"
      ],
      "execution_count": 4,
      "outputs": [
        {
          "output_type": "stream",
          "text": [
            "Downloading data from https://s3.amazonaws.com/img-datasets/mnist.npz\n",
            "11493376/11490434 [==============================] - 0s 0us/step\n"
          ],
          "name": "stdout"
        }
      ]
    },
    {
      "cell_type": "markdown",
      "metadata": {
        "id": "8hmNWteCbVhO",
        "colab_type": "text"
      },
      "source": [
        "## Model\n",
        "The next part trains and evaluates a CNN. Or if model is available, then use the pretrained model"
      ]
    },
    {
      "cell_type": "code",
      "metadata": {
        "id": "R_LacTJlbVhP",
        "colab_type": "code",
        "outputId": "2f006810-3fdb-429d-8fab-4e67fa76425b",
        "colab": {
          "base_uri": "https://localhost:8080/",
          "height": 197
        }
      },
      "source": [
        "if not os.path.isfile(\"cnn_MNIST_model.hdf5\"):\n",
        "  batch_size = 128\n",
        "  epochs = 15\n",
        "  input_shape = (28, 28, 1)\n",
        "\n",
        "  model = Sequential()\n",
        "  model.add(Conv2D(32, kernel_size=(3, 3),\n",
        "                  activation='relu',\n",
        "                   input_shape=input_shape))\n",
        "  model.add(Conv2D(64, (3, 3), activation='relu'))\n",
        "  model.add(MaxPooling2D(pool_size=(2, 2)))\n",
        "  model.add(Dropout(0.25))\n",
        "  model.add(Flatten())\n",
        "  model.add(Dense(128, activation='exponential'))\n",
        "  model.add(Dropout(0.5))\n",
        "  model.add(Dense(num_classes, activation='softmax'))\n",
        "\n",
        "  model.compile(loss=keras.losses.categorical_crossentropy,\n",
        "                optimizer='adam',\n",
        "                metrics=['accuracy'])\n",
        "\n",
        "  mcp_save = ModelCheckpoint('cnn_MNIST_model.hdf5', save_best_only=True, monitor='val_acc', mode='max')\n",
        "\n",
        "  model.fit(x_train, y_train,\n",
        "            batch_size=batch_size,\n",
        "            epochs=epochs,\n",
        "            verbose=1,\n",
        "            callbacks=[mcp_save],\n",
        "            validation_data=(x_test, y_test))\n",
        "\n",
        "else:\n",
        "  model = load_model('cnn_MNIST_model.hdf5')"
      ],
      "execution_count": 5,
      "outputs": [
        {
          "output_type": "stream",
          "text": [
            "WARNING:tensorflow:From /usr/local/lib/python3.6/dist-packages/tensorflow/python/framework/op_def_library.py:263: colocate_with (from tensorflow.python.framework.ops) is deprecated and will be removed in a future version.\n",
            "Instructions for updating:\n",
            "Colocations handled automatically by placer.\n",
            "WARNING:tensorflow:From /usr/local/lib/python3.6/dist-packages/keras/backend/tensorflow_backend.py:3445: calling dropout (from tensorflow.python.ops.nn_ops) with keep_prob is deprecated and will be removed in a future version.\n",
            "Instructions for updating:\n",
            "Please use `rate` instead of `keep_prob`. Rate should be set to `rate = 1 - keep_prob`.\n",
            "WARNING:tensorflow:From /usr/local/lib/python3.6/dist-packages/tensorflow/python/ops/math_ops.py:3066: to_int32 (from tensorflow.python.ops.math_ops) is deprecated and will be removed in a future version.\n",
            "Instructions for updating:\n",
            "Use tf.cast instead.\n"
          ],
          "name": "stdout"
        }
      ]
    },
    {
      "cell_type": "markdown",
      "metadata": {
        "id": "QrIKvRmCbVhX",
        "colab_type": "text"
      },
      "source": [
        "## Analysis"
      ]
    },
    {
      "cell_type": "code",
      "metadata": {
        "id": "WJ10F98LbVha",
        "colab_type": "code",
        "colab": {}
      },
      "source": [
        "# Scale to [0, 1] range for plotting.\n",
        "def input_postprocessing(X):\n",
        "    return revert_preprocessing(X) / 255\n",
        "\n",
        "noise_scale = (input_range[1]-input_range[0]) * 0.1\n",
        "ri = input_range[0]  # reference input\n",
        "\n",
        "\n",
        "# Configure analysis methods and properties\n",
        "# Configure analysis methods and properties\n",
        "methods = [\n",
        "    # NAME                    OPT.PARAMS                POSTPROC FXN               TITLE\n",
        "    \n",
        "    # Show input\n",
        "    (\"input\",                 {},                       input_postprocessing,      \"Input\"),\n",
        "\n",
        "    # Function\n",
        "    (\"gradient\", {\"postprocess\": \"abs\"}, mnistutils.graymap, \"Gradient\"),  # 0\n",
        "    (\"smoothgrad\", {\"noise_scale\": noise_scale,\n",
        "                    \"postprocess\": \"square\"}, mnistutils.graymap, \"SmoothGrad\"),  # 1\n",
        "\n",
        "    # Signal\n",
        "    (\"deconvnet\", {}, mnistutils.bk_proj, \"Deconvnet\"),  # 2\n",
        "    (\"guided_backprop\", {}, mnistutils.bk_proj, \"Guided Backprop\",),  # 3\n",
        "    (\"pattern.net\", {\"pattern_type\": \"relu\"}, mnistutils.bk_proj, \"PatternNet\"),  # 4\n",
        "\n",
        "    # Interaction\n",
        "    (\"pattern.attribution\", {\"pattern_type\": \"relu\"}, mnistutils.heatmap, \"PatternAttribution\"),  # 5\n",
        "    (\"deep_taylor.bounded\", {\"low\": input_range[0],\n",
        "                                 \"high\": input_range[1]}, mnistutils.heatmap, \"DeepTaylor\"),  # 6\n",
        "    (\"input_t_gradient\", {}, mnistutils.heatmap, \"Input * Gradient\"),  # 7\n",
        "    (\"integrated_gradients\", {\"reference_inputs\": ri}, mnistutils.heatmap, \"Integrated Gradients\"),  # 8\n",
        "    #(\"lrp.z\", {}, mnistutils.heatmap, \"LRP-Z\"),  # 9\n",
        "    (\"lrp.epsilon\", {\"epsilon\": 1}, mnistutils.heatmap, \"LRP-Epsilon\"),  # 10\n",
        "    (\"lrp.epsilon_IB\", {\"epsilon\": 1}, mnistutils.heatmap, \"LRP-Epsilon IB\"),  # 11\n",
        "    (\"lrp.alpha_1_beta_0\", {}, mnistutils.heatmap, \"LRP-Alpha1-Beta0\"),  # 12\n",
        "    (\"lrp.alpha_1_beta_0_IB\", {}, mnistutils.heatmap, \"LRP-Alpha1-Beta0 IB\"),  # 13\n",
        "        (\"lrp.sequential_preset_a_flat\",{\"epsilon\": 1},     mnistutils.heatmap,       \"LRP-PresetAFlat\"), #14\n",
        "      (\"lrp.sequential_preset_b_flat\",{\"epsilon\": 1},     mnistutils.heatmap,       \"LRP-PresetBFlat\"), #15\n",
        "    ]"
      ],
      "execution_count": 0,
      "outputs": []
    },
    {
      "cell_type": "code",
      "metadata": {
        "id": "eA2Xb4OobVhf",
        "colab_type": "code",
        "outputId": "6ba7a6ac-24a1-474b-9776-4bf78d5152dd",
        "colab": {
          "base_uri": "https://localhost:8080/",
          "height": 108
        }
      },
      "source": [
        "# Create model without trailing softmax\n",
        "model_wo_softmax = iutils.keras.graph.model_wo_softmax(model)\n",
        "\n",
        "# Create analyzers.\n",
        "analyzers = []\n",
        "for method in methods:\n",
        "    analyzer = innvestigate.create_analyzer(method[0],        # analysis method identifier\n",
        "                                            model_wo_softmax, # model without softmax output\n",
        "                                            neuron_selection_mode=\"index\",\n",
        "                                            **method[1])      # optional analysis parameters\n",
        "\n",
        "    # Some analyzers require training.\n",
        "    analyzer.fit(data[0], batch_size=256, verbose=1)\n",
        "    analyzers.append(analyzer)"
      ],
      "execution_count": 7,
      "outputs": [
        {
          "output_type": "stream",
          "text": [
            "Epoch 1/1\n",
            "235/235 [==============================] - 8s 34ms/step - loss: 4.0000 - broadcast_1_loss: 1.0000 - broadcast_2_loss: 1.0000 - broadcast_3_loss: 1.0000 - broadcast_4_loss: 1.0000\n",
            "Epoch 1/1\n",
            "235/235 [==============================] - 5s 22ms/step - loss: 4.0000 - broadcast_5_loss: 1.0000 - broadcast_6_loss: 1.0000 - broadcast_7_loss: 1.0000 - broadcast_8_loss: 1.0000\n"
          ],
          "name": "stdout"
        }
      ]
    },
    {
      "cell_type": "code",
      "metadata": {
        "id": "kbLUoyi5bVhq",
        "colab_type": "code",
        "colab": {}
      },
      "source": [
        "%%capture\n",
        "\n",
        "n = 1\n",
        "test_images = list(zip(data[2][:n], data[3][:n]))\n",
        "\n",
        "analysis = np.zeros([len(test_images), len(analyzers), 28, 28, 3])\n",
        "text = []\n",
        "\n",
        "\n",
        "for i, (x, y) in enumerate(test_images):\n",
        "    # Add batch axis.\n",
        "    x = x[None, :, :, :]\n",
        "    \n",
        "    # Predict final activations, probabilites, and label.\n",
        "    presm = model_wo_softmax.predict_on_batch(x)[0]\n",
        "    prob = model.predict_on_batch(x)[0]\n",
        "    y_hat = prob.argmax()\n",
        "    y_min = prob.argmin()\n",
        "    \n",
        "    # Save prediction info:\n",
        "    text.append((\"%s\" % label_to_class_name[y],    # ground truth label\n",
        "                 \"%.2f\" % presm.max(),             # pre-softmax logits\n",
        "                 \"%.2f\" % prob.max(),              # probabilistic softmax output  \n",
        "                 \"%s\" % label_to_class_name[y_hat] # predicted label\n",
        "                ))\n",
        "\n",
        "    for aidx, analyzer in enumerate(analyzers):\n",
        "        # Analyze.\n",
        "        a = analyzer.analyze(x, neuron_selection=y_hat)\n",
        "        \n",
        "        # Apply common postprocessing, e.g., re-ordering the channels for plotting.\n",
        "        a = mnistutils.postprocess(a)\n",
        "        # Apply analysis postprocessing, e.g., creating a heatmap.\n",
        "        #a = methods[aidx][2](a)\n",
        "        # Store the analysis.\n",
        "        analysis[i, aidx] = a[0]"
      ],
      "execution_count": 0,
      "outputs": []
    },
    {
      "cell_type": "markdown",
      "metadata": {
        "id": "HNokpUm-bVhu",
        "colab_type": "text"
      },
      "source": [
        "## Visualize histograms"
      ]
    },
    {
      "cell_type": "code",
      "metadata": {
        "id": "5BL29gfun14q",
        "colab_type": "code",
        "outputId": "b906b53a-f78b-429b-8657-f0bc85c29235",
        "colab": {
          "base_uri": "https://localhost:8080/",
          "height": 946
        }
      },
      "source": [
        "import matplotlib.pyplot as plt\n",
        "from matplotlib.offsetbox import AnchoredText\n",
        "\n",
        "fig=plt.figure()\n",
        "fig.subplots_adjust(0.0,0.0,2.0,3.0)\n",
        "axs = []\n",
        "for i,heatmap in enumerate(analysis[0]):\n",
        "  if i == 0:\n",
        "    ax = fig.add_subplot(4,4,1)\n",
        "    ax.imshow(heatmap)\n",
        "    ax.set_title(methods[i][3])\n",
        "    ax.xaxis.set_visible(False)\n",
        "    ax.yaxis.set_visible(False)\n",
        "    continue\n",
        "    \n",
        "  axs.append(fig.add_subplot(4,4,i+1))\n",
        "  x_min = np.amin(heatmap)\n",
        "  x_min = np.floor(x_min)\n",
        "  x_max = np.amax(heatmap)\n",
        "  x_max = np.ceil(x_max)\n",
        "  if x_min == x_max:\n",
        "    bins = np.arange(x_min-0.2, x_max+0.2,0.01)\n",
        "  else:\n",
        "    bins = np.arange(x_min, x_max, (x_max-x_min)/20)\n",
        "  n, bins, patches = axs[i-1].hist(np.reshape(heatmap * (heatmap < 0),(28*28*3)), bins=bins,color ='blue', edgecolor = 'black')\n",
        "  n, bins, patches = axs[i-1].hist(np.reshape(heatmap * (heatmap >= 0),(28*28*3)), bins=bins,color ='red', edgecolor = 'black')\n",
        "  \n",
        "\n",
        "  #for j,patch in enumerate(patches):\n",
        "  #  if bins[j] < 0:\n",
        "  #    axs[i-1].set_facecolor('blue')\n",
        "  axs[i-1].set_title(methods[i][3])\n",
        "  axs[i-1].yaxis.set_visible(False)\n",
        "  \n",
        "  min_sum = np.sum(heatmap * (heatmap < 0))\n",
        "  #axs[i-1].text(x=1,y=10,s='Sum of negative values: '+str(round(min_sum)),fontsize=12)\n",
        "  anchored_text = AnchoredText('Sum of negative\\n values: '+str(round(min_sum)), loc='upper right')\n",
        "  axs[i-1].add_artist(anchored_text)\n",
        "  \n",
        "fig.show()"
      ],
      "execution_count": 9,
      "outputs": [
        {
          "output_type": "stream",
          "text": [
            "Clipping input data to the valid range for imshow with RGB data ([0..1] for floats or [0..255] for integers).\n"
          ],
          "name": "stderr"
        },
        {
          "output_type": "display_data",
          "data": {
            "image/png": "[encoded data removed]",
            "text/plain": [
              "<Figure size 432x288 with 16 Axes>"
            ]
          },
          "metadata": {
            "tags": []
          }
        }
      ]
    }
  ]
}